{
  "nbformat": 4,
  "nbformat_minor": 0,
  "metadata": {
    "colab": {
      "name": "datacleaning_flipkart.ipynb",
      "provenance": [],
      "collapsed_sections": [],
      "mount_file_id": "1Q9Fh5Rq_R5_GyP_q1VDRxKoy4gnM5HKd",
      "authorship_tag": "ABX9TyP1DJewpxU634ZAc963DNJg",
      "include_colab_link": true
    },
    "kernelspec": {
      "name": "python3",
      "display_name": "Python 3"
    }
  },
  "cells": [
    {
      "cell_type": "markdown",
      "metadata": {
        "id": "view-in-github",
        "colab_type": "text"
      },
      "source": [
        "<a href=\"https://colab.research.google.com/github/priya170807/text_analysis/blob/master/datacleaning_flipkart_version5.ipynb\" target=\"_parent\"><img src=\"https://colab.research.google.com/assets/colab-badge.svg\" alt=\"Open In Colab\"/></a>"
      ]
    },
    {
      "cell_type": "code",
      "metadata": {
        "colab": {
          "base_uri": "https://localhost:8080/"
        },
        "id": "4jqzbWqY_311",
        "outputId": "9cc6e774-54e8-40ba-d7c1-ccce15ba7b25"
      },
      "source": [
        "from google.colab import drive\r\n",
        "drive.mount('/content/drive')"
      ],
      "execution_count": 673,
      "outputs": [
        {
          "output_type": "stream",
          "text": [
            "Drive already mounted at /content/drive; to attempt to forcibly remount, call drive.mount(\"/content/drive\", force_remount=True).\n"
          ],
          "name": "stdout"
        }
      ]
    },
    {
      "cell_type": "code",
      "metadata": {
        "id": "QFh9EWI6BJj_"
      },
      "source": [
        "import re\r\n",
        "import sys\r\n",
        "import pickle\r\n",
        "import pandas as pd\r\n",
        "import numpy as np\r\n",
        "from collections import Counter"
      ],
      "execution_count": 674,
      "outputs": []
    },
    {
      "cell_type": "code",
      "metadata": {
        "id": "Zfa2bGC2BVLM"
      },
      "source": [
        "df = pd.read_csv(\"/content/drive/MyDrive/datasets/flipkart_com-ecommerce_sample.csv\")"
      ],
      "execution_count": 675,
      "outputs": []
    },
    {
      "cell_type": "code",
      "metadata": {
        "colab": {
          "base_uri": "https://localhost:8080/",
          "height": 487
        },
        "id": "za1_6ExjBfjx",
        "outputId": "f6097b72-9bf1-41c6-ad5c-19e3dd3492f2"
      },
      "source": [
        "df.head()"
      ],
      "execution_count": 676,
      "outputs": [
        {
          "output_type": "execute_result",
          "data": {
            "text/html": [
              "<div>\n",
              "<style scoped>\n",
              "    .dataframe tbody tr th:only-of-type {\n",
              "        vertical-align: middle;\n",
              "    }\n",
              "\n",
              "    .dataframe tbody tr th {\n",
              "        vertical-align: top;\n",
              "    }\n",
              "\n",
              "    .dataframe thead th {\n",
              "        text-align: right;\n",
              "    }\n",
              "</style>\n",
              "<table border=\"1\" class=\"dataframe\">\n",
              "  <thead>\n",
              "    <tr style=\"text-align: right;\">\n",
              "      <th></th>\n",
              "      <th>uniq_id</th>\n",
              "      <th>crawl_timestamp</th>\n",
              "      <th>product_url</th>\n",
              "      <th>product_name</th>\n",
              "      <th>product_category_tree</th>\n",
              "      <th>pid</th>\n",
              "      <th>retail_price</th>\n",
              "      <th>discounted_price</th>\n",
              "      <th>image</th>\n",
              "      <th>is_FK_Advantage_product</th>\n",
              "      <th>description</th>\n",
              "      <th>product_rating</th>\n",
              "      <th>overall_rating</th>\n",
              "      <th>brand</th>\n",
              "      <th>product_specifications</th>\n",
              "    </tr>\n",
              "  </thead>\n",
              "  <tbody>\n",
              "    <tr>\n",
              "      <th>0</th>\n",
              "      <td>c2d766ca982eca8304150849735ffef9</td>\n",
              "      <td>2016-03-25 22:59:23 +0000</td>\n",
              "      <td>http://www.flipkart.com/alisha-solid-women-s-c...</td>\n",
              "      <td>Alisha Solid Women's Cycling Shorts</td>\n",
              "      <td>[\"Clothing &gt;&gt; Women's Clothing &gt;&gt; Lingerie, Sl...</td>\n",
              "      <td>SRTEH2FF9KEDEFGF</td>\n",
              "      <td>999.0</td>\n",
              "      <td>379.0</td>\n",
              "      <td>[\"http://img5a.flixcart.com/image/short/u/4/a/...</td>\n",
              "      <td>False</td>\n",
              "      <td>Key Features of Alisha Solid Women's Cycling S...</td>\n",
              "      <td>No rating available</td>\n",
              "      <td>No rating available</td>\n",
              "      <td>Alisha</td>\n",
              "      <td>{\"product_specification\"=&gt;[{\"key\"=&gt;\"Number of ...</td>\n",
              "    </tr>\n",
              "    <tr>\n",
              "      <th>1</th>\n",
              "      <td>7f7036a6d550aaa89d34c77bd39a5e48</td>\n",
              "      <td>2016-03-25 22:59:23 +0000</td>\n",
              "      <td>http://www.flipkart.com/fabhomedecor-fabric-do...</td>\n",
              "      <td>FabHomeDecor Fabric Double Sofa Bed</td>\n",
              "      <td>[\"Furniture &gt;&gt; Living Room Furniture &gt;&gt; Sofa B...</td>\n",
              "      <td>SBEEH3QGU7MFYJFY</td>\n",
              "      <td>32157.0</td>\n",
              "      <td>22646.0</td>\n",
              "      <td>[\"http://img6a.flixcart.com/image/sofa-bed/j/f...</td>\n",
              "      <td>False</td>\n",
              "      <td>FabHomeDecor Fabric Double Sofa Bed (Finish Co...</td>\n",
              "      <td>No rating available</td>\n",
              "      <td>No rating available</td>\n",
              "      <td>FabHomeDecor</td>\n",
              "      <td>{\"product_specification\"=&gt;[{\"key\"=&gt;\"Installati...</td>\n",
              "    </tr>\n",
              "    <tr>\n",
              "      <th>2</th>\n",
              "      <td>f449ec65dcbc041b6ae5e6a32717d01b</td>\n",
              "      <td>2016-03-25 22:59:23 +0000</td>\n",
              "      <td>http://www.flipkart.com/aw-bellies/p/itmeh4grg...</td>\n",
              "      <td>AW Bellies</td>\n",
              "      <td>[\"Footwear &gt;&gt; Women's Footwear &gt;&gt; Ballerinas &gt;...</td>\n",
              "      <td>SHOEH4GRSUBJGZXE</td>\n",
              "      <td>999.0</td>\n",
              "      <td>499.0</td>\n",
              "      <td>[\"http://img5a.flixcart.com/image/shoe/7/z/z/r...</td>\n",
              "      <td>False</td>\n",
              "      <td>Key Features of AW Bellies Sandals Wedges Heel...</td>\n",
              "      <td>No rating available</td>\n",
              "      <td>No rating available</td>\n",
              "      <td>AW</td>\n",
              "      <td>{\"product_specification\"=&gt;[{\"key\"=&gt;\"Ideal For\"...</td>\n",
              "    </tr>\n",
              "    <tr>\n",
              "      <th>3</th>\n",
              "      <td>0973b37acd0c664e3de26e97e5571454</td>\n",
              "      <td>2016-03-25 22:59:23 +0000</td>\n",
              "      <td>http://www.flipkart.com/alisha-solid-women-s-c...</td>\n",
              "      <td>Alisha Solid Women's Cycling Shorts</td>\n",
              "      <td>[\"Clothing &gt;&gt; Women's Clothing &gt;&gt; Lingerie, Sl...</td>\n",
              "      <td>SRTEH2F6HUZMQ6SJ</td>\n",
              "      <td>699.0</td>\n",
              "      <td>267.0</td>\n",
              "      <td>[\"http://img5a.flixcart.com/image/short/6/2/h/...</td>\n",
              "      <td>False</td>\n",
              "      <td>Key Features of Alisha Solid Women's Cycling S...</td>\n",
              "      <td>No rating available</td>\n",
              "      <td>No rating available</td>\n",
              "      <td>Alisha</td>\n",
              "      <td>{\"product_specification\"=&gt;[{\"key\"=&gt;\"Number of ...</td>\n",
              "    </tr>\n",
              "    <tr>\n",
              "      <th>4</th>\n",
              "      <td>bc940ea42ee6bef5ac7cea3fb5cfbee7</td>\n",
              "      <td>2016-03-25 22:59:23 +0000</td>\n",
              "      <td>http://www.flipkart.com/sicons-all-purpose-arn...</td>\n",
              "      <td>Sicons All Purpose Arnica Dog Shampoo</td>\n",
              "      <td>[\"Pet Supplies &gt;&gt; Grooming &gt;&gt; Skin &amp; Coat Care...</td>\n",
              "      <td>PSOEH3ZYDMSYARJ5</td>\n",
              "      <td>220.0</td>\n",
              "      <td>210.0</td>\n",
              "      <td>[\"http://img5a.flixcart.com/image/pet-shampoo/...</td>\n",
              "      <td>False</td>\n",
              "      <td>Specifications of Sicons All Purpose Arnica Do...</td>\n",
              "      <td>No rating available</td>\n",
              "      <td>No rating available</td>\n",
              "      <td>Sicons</td>\n",
              "      <td>{\"product_specification\"=&gt;[{\"key\"=&gt;\"Pet Type\",...</td>\n",
              "    </tr>\n",
              "  </tbody>\n",
              "</table>\n",
              "</div>"
            ],
            "text/plain": [
              "                            uniq_id  ...                             product_specifications\n",
              "0  c2d766ca982eca8304150849735ffef9  ...  {\"product_specification\"=>[{\"key\"=>\"Number of ...\n",
              "1  7f7036a6d550aaa89d34c77bd39a5e48  ...  {\"product_specification\"=>[{\"key\"=>\"Installati...\n",
              "2  f449ec65dcbc041b6ae5e6a32717d01b  ...  {\"product_specification\"=>[{\"key\"=>\"Ideal For\"...\n",
              "3  0973b37acd0c664e3de26e97e5571454  ...  {\"product_specification\"=>[{\"key\"=>\"Number of ...\n",
              "4  bc940ea42ee6bef5ac7cea3fb5cfbee7  ...  {\"product_specification\"=>[{\"key\"=>\"Pet Type\",...\n",
              "\n",
              "[5 rows x 15 columns]"
            ]
          },
          "metadata": {
            "tags": []
          },
          "execution_count": 676
        }
      ]
    },
    {
      "cell_type": "code",
      "metadata": {
        "id": "KDb_F2qVB1Y9"
      },
      "source": [
        "useful_data = df[[\"product_name\",\"product_category_tree\", \"description\", \"brand\"]]"
      ],
      "execution_count": 677,
      "outputs": []
    },
    {
      "cell_type": "code",
      "metadata": {
        "colab": {
          "base_uri": "https://localhost:8080/",
          "height": 206
        },
        "id": "r_TyK_jtB640",
        "outputId": "273da672-5328-47a6-8b56-54c335ffd84b"
      },
      "source": [
        "useful_data.head()"
      ],
      "execution_count": 678,
      "outputs": [
        {
          "output_type": "execute_result",
          "data": {
            "text/html": [
              "<div>\n",
              "<style scoped>\n",
              "    .dataframe tbody tr th:only-of-type {\n",
              "        vertical-align: middle;\n",
              "    }\n",
              "\n",
              "    .dataframe tbody tr th {\n",
              "        vertical-align: top;\n",
              "    }\n",
              "\n",
              "    .dataframe thead th {\n",
              "        text-align: right;\n",
              "    }\n",
              "</style>\n",
              "<table border=\"1\" class=\"dataframe\">\n",
              "  <thead>\n",
              "    <tr style=\"text-align: right;\">\n",
              "      <th></th>\n",
              "      <th>product_name</th>\n",
              "      <th>product_category_tree</th>\n",
              "      <th>description</th>\n",
              "      <th>brand</th>\n",
              "    </tr>\n",
              "  </thead>\n",
              "  <tbody>\n",
              "    <tr>\n",
              "      <th>0</th>\n",
              "      <td>Alisha Solid Women's Cycling Shorts</td>\n",
              "      <td>[\"Clothing &gt;&gt; Women's Clothing &gt;&gt; Lingerie, Sl...</td>\n",
              "      <td>Key Features of Alisha Solid Women's Cycling S...</td>\n",
              "      <td>Alisha</td>\n",
              "    </tr>\n",
              "    <tr>\n",
              "      <th>1</th>\n",
              "      <td>FabHomeDecor Fabric Double Sofa Bed</td>\n",
              "      <td>[\"Furniture &gt;&gt; Living Room Furniture &gt;&gt; Sofa B...</td>\n",
              "      <td>FabHomeDecor Fabric Double Sofa Bed (Finish Co...</td>\n",
              "      <td>FabHomeDecor</td>\n",
              "    </tr>\n",
              "    <tr>\n",
              "      <th>2</th>\n",
              "      <td>AW Bellies</td>\n",
              "      <td>[\"Footwear &gt;&gt; Women's Footwear &gt;&gt; Ballerinas &gt;...</td>\n",
              "      <td>Key Features of AW Bellies Sandals Wedges Heel...</td>\n",
              "      <td>AW</td>\n",
              "    </tr>\n",
              "    <tr>\n",
              "      <th>3</th>\n",
              "      <td>Alisha Solid Women's Cycling Shorts</td>\n",
              "      <td>[\"Clothing &gt;&gt; Women's Clothing &gt;&gt; Lingerie, Sl...</td>\n",
              "      <td>Key Features of Alisha Solid Women's Cycling S...</td>\n",
              "      <td>Alisha</td>\n",
              "    </tr>\n",
              "    <tr>\n",
              "      <th>4</th>\n",
              "      <td>Sicons All Purpose Arnica Dog Shampoo</td>\n",
              "      <td>[\"Pet Supplies &gt;&gt; Grooming &gt;&gt; Skin &amp; Coat Care...</td>\n",
              "      <td>Specifications of Sicons All Purpose Arnica Do...</td>\n",
              "      <td>Sicons</td>\n",
              "    </tr>\n",
              "  </tbody>\n",
              "</table>\n",
              "</div>"
            ],
            "text/plain": [
              "                            product_name  ...         brand\n",
              "0    Alisha Solid Women's Cycling Shorts  ...        Alisha\n",
              "1    FabHomeDecor Fabric Double Sofa Bed  ...  FabHomeDecor\n",
              "2                             AW Bellies  ...            AW\n",
              "3    Alisha Solid Women's Cycling Shorts  ...        Alisha\n",
              "4  Sicons All Purpose Arnica Dog Shampoo  ...        Sicons\n",
              "\n",
              "[5 rows x 4 columns]"
            ]
          },
          "metadata": {
            "tags": []
          },
          "execution_count": 678
        }
      ]
    },
    {
      "cell_type": "code",
      "metadata": {
        "colab": {
          "base_uri": "https://localhost:8080/"
        },
        "id": "Nj8KCvptB72m",
        "outputId": "bc773ddc-3e21-4426-cab5-89f13c3c48c7"
      },
      "source": [
        "len(useful_data)"
      ],
      "execution_count": 679,
      "outputs": [
        {
          "output_type": "execute_result",
          "data": {
            "text/plain": [
              "20000"
            ]
          },
          "metadata": {
            "tags": []
          },
          "execution_count": 679
        }
      ]
    },
    {
      "cell_type": "code",
      "metadata": {
        "id": "GHQXk7S_B7o3"
      },
      "source": [
        "data = useful_data.copy()"
      ],
      "execution_count": 680,
      "outputs": []
    },
    {
      "cell_type": "markdown",
      "metadata": {
        "id": "ymbnTO1KJyeC"
      },
      "source": [
        "Remove all the non-word characters and also the \" ' \" between the letters in the product_name."
      ]
    },
    {
      "cell_type": "code",
      "metadata": {
        "id": "vZIfOvtRwauC"
      },
      "source": [
        "# lets clean the product_name column\r\n",
        "data[\"product_name\"] = data[\"product_name\"].str.replace(r'(?<=[a-zA-Z\\d\\s])\\'(?=[a-zA-Z\\d\\s])', r\"\", regex=True)"
      ],
      "execution_count": 681,
      "outputs": []
    },
    {
      "cell_type": "code",
      "metadata": {
        "id": "thqIn2TxI397"
      },
      "source": [
        "data[\"product_name\"] = data[\"product_name\"].str.replace(r'[^a-zA-Z\\d\\s]', r\"\", regex=True)"
      ],
      "execution_count": 682,
      "outputs": []
    },
    {
      "cell_type": "code",
      "metadata": {
        "colab": {
          "base_uri": "https://localhost:8080/",
          "height": 36
        },
        "id": "VbSXJA0rwvL6",
        "outputId": "b5fbbd4b-2014-4186-b157-787859e5e095"
      },
      "source": [
        "# randomly check the product_name column \r\n",
        "data[\"product_name\"][12]"
      ],
      "execution_count": 683,
      "outputs": [
        {
          "output_type": "execute_result",
          "data": {
            "application/vnd.google.colaboratory.intrinsic+json": {
              "type": "string"
            },
            "text/plain": [
              "'Sicons All Purpose Tea Tree Dog Shampoo'"
            ]
          },
          "metadata": {
            "tags": []
          },
          "execution_count": 683
        }
      ]
    },
    {
      "cell_type": "code",
      "metadata": {
        "colab": {
          "base_uri": "https://localhost:8080/",
          "height": 36
        },
        "id": "XFkR69Y6Jkxy",
        "outputId": "3d9a4667-2faa-46ce-d291-55900661b0ad"
      },
      "source": [
        "data[\"product_name\"][440]"
      ],
      "execution_count": 684,
      "outputs": [
        {
          "output_type": "execute_result",
          "data": {
            "application/vnd.google.colaboratory.intrinsic+json": {
              "type": "string"
            },
            "text/plain": [
              "'Asian Gems  Jewels 5 Dhaatu Metal Alloy Zircon Ring'"
            ]
          },
          "metadata": {
            "tags": []
          },
          "execution_count": 684
        }
      ]
    },
    {
      "cell_type": "code",
      "metadata": {
        "colab": {
          "base_uri": "https://localhost:8080/",
          "height": 36
        },
        "id": "nIPYHpYdPHs-",
        "outputId": "7d7ea15b-87dd-4ca0-fbff-501635ed2b9e"
      },
      "source": [
        "data[\"product_name\"][339]"
      ],
      "execution_count": 685,
      "outputs": [
        {
          "output_type": "execute_result",
          "data": {
            "application/vnd.google.colaboratory.intrinsic+json": {
              "type": "string"
            },
            "text/plain": [
              "'Dressberry Black Synthetic  Clutch'"
            ]
          },
          "metadata": {
            "tags": []
          },
          "execution_count": 685
        }
      ]
    },
    {
      "cell_type": "markdown",
      "metadata": {
        "id": "1QIOGM1Ko2VU"
      },
      "source": [
        "Clean the product_category_tree column."
      ]
    },
    {
      "cell_type": "code",
      "metadata": {
        "id": "s0DkONjHo1cX"
      },
      "source": [
        "# create new column \"mainsnak\" which is same as data[\"product_category_tree\"]\r\n",
        "data[\"mainsnak\"] = data[\"product_category_tree\"]"
      ],
      "execution_count": null,
      "outputs": []
    },
    {
      "cell_type": "code",
      "metadata": {
        "id": "l6Z9I2Rxo1ZD"
      },
      "source": [
        "data[\"mainsnak\"][0]"
      ],
      "execution_count": null,
      "outputs": []
    },
    {
      "cell_type": "code",
      "metadata": {
        "id": "avdzArUKo1Vy"
      },
      "source": [
        "# we can see a aphostrophe occuring in the mainsnak column\r\n",
        "data[\"mainsnak\"][57]"
      ],
      "execution_count": null,
      "outputs": []
    },
    {
      "cell_type": "code",
      "metadata": {
        "id": "pvg72pako1Oi"
      },
      "source": [
        "# create a function to split the rows in data[\"product_category_tree\"] and get the first string or the string at zeroth position.\r\n",
        "def get_instance_of_entries(entry):\r\n",
        "  entry_list = entry.split(\">>\")\r\n",
        "  first_word = entry_list[0].rstrip()\r\n",
        "  first_word = re.sub(r'[^a-zA-Z\\d\\s]', r'', first_word)\r\n",
        "  # first_word = re.sub(r'[[\"]', r'', first_word)\r\n",
        "  # first_word = re.sub(r'[\"]]', r'', first_word)\r\n",
        "  return first_word"
      ],
      "execution_count": null,
      "outputs": []
    },
    {
      "cell_type": "code",
      "metadata": {
        "id": "zdtcWg7WpU0b"
      },
      "source": [
        "# apply the function get_instance_of_entries to mainsnak column and get the string in zeroth position. \r\n",
        "data[\"mainsnak\"] = data[\"mainsnak\"].map(lambda x : get_instance_of_entries(x))"
      ],
      "execution_count": null,
      "outputs": []
    },
    {
      "cell_type": "code",
      "metadata": {
        "id": "TjHX_b9-pUwq"
      },
      "source": [
        "data[\"mainsnak\"][57]"
      ],
      "execution_count": null,
      "outputs": []
    },
    {
      "cell_type": "code",
      "metadata": {
        "id": "Cx9oULP-pUtd"
      },
      "source": [
        "data[\"mainsnak\"][65]"
      ],
      "execution_count": null,
      "outputs": []
    },
    {
      "cell_type": "markdown",
      "metadata": {
        "id": "xIDCxAg4aYk0"
      },
      "source": [
        "Remove all the non-word characters and also the \" ' \" between the letters in the column brand."
      ]
    },
    {
      "cell_type": "code",
      "metadata": {
        "id": "XJgbcDUii6Cv"
      },
      "source": [
        "# lets clean the brand column\r\n",
        "# replace the commas by empty space\r\n",
        "data[\"brand\"] = data[\"brand\"].str.replace(r'(?<=[a-zA-Z\\d\\s])\\'(?=[a-zA-Z\\d\\s])', r\"\", regex=True)"
      ],
      "execution_count": 686,
      "outputs": []
    },
    {
      "cell_type": "code",
      "metadata": {
        "id": "CFurqguTjHwh"
      },
      "source": [
        "data[\"brand\"] = data[\"brand\"].str.replace(r'[^a-zA-Z\\d\\s]', r\"\", regex=True)"
      ],
      "execution_count": 687,
      "outputs": []
    },
    {
      "cell_type": "code",
      "metadata": {
        "colab": {
          "base_uri": "https://localhost:8080/",
          "height": 36
        },
        "id": "jJUsMJOaje2S",
        "outputId": "47b6fa8b-dfa2-4e77-a114-86a009e72263"
      },
      "source": [
        "data[\"brand\"][5357]"
      ],
      "execution_count": 688,
      "outputs": [
        {
          "output_type": "execute_result",
          "data": {
            "application/vnd.google.colaboratory.intrinsic+json": {
              "type": "string"
            },
            "text/plain": [
              "'Mi Dulce Anya'"
            ]
          },
          "metadata": {
            "tags": []
          },
          "execution_count": 688
        }
      ]
    },
    {
      "cell_type": "code",
      "metadata": {
        "colab": {
          "base_uri": "https://localhost:8080/",
          "height": 36
        },
        "id": "Qo7b_Cuzncut",
        "outputId": "65ae887a-52cd-4b87-b6a4-faa41b8f6391"
      },
      "source": [
        "data[\"brand\"][19289]"
      ],
      "execution_count": 689,
      "outputs": [
        {
          "output_type": "execute_result",
          "data": {
            "application/vnd.google.colaboratory.intrinsic+json": {
              "type": "string"
            },
            "text/plain": [
              "'Cynthias Fashion'"
            ]
          },
          "metadata": {
            "tags": []
          },
          "execution_count": 689
        }
      ]
    },
    {
      "cell_type": "code",
      "metadata": {
        "colab": {
          "base_uri": "https://localhost:8080/",
          "height": 36
        },
        "id": "6HsPrNz1nmzK",
        "outputId": "94870d31-1b1f-4f14-928c-8fc3ab146ce1"
      },
      "source": [
        "data[\"brand\"][19120]"
      ],
      "execution_count": 690,
      "outputs": [
        {
          "output_type": "execute_result",
          "data": {
            "application/vnd.google.colaboratory.intrinsic+json": {
              "type": "string"
            },
            "text/plain": [
              "'Layerr'"
            ]
          },
          "metadata": {
            "tags": []
          },
          "execution_count": 690
        }
      ]
    },
    {
      "cell_type": "markdown",
      "metadata": {
        "id": "fOsvZR3nxFSL"
      },
      "source": [
        "check the data[\"description\"] column and start cleaning it"
      ]
    },
    {
      "cell_type": "code",
      "metadata": {
        "colab": {
          "base_uri": "https://localhost:8080/",
          "height": 72
        },
        "id": "K9y-ZkwkmkFB",
        "outputId": "96cb8bd4-7ad2-4a40-a501-61ddce3bbbe0"
      },
      "source": [
        "data[\"description\"][0]"
      ],
      "execution_count": 691,
      "outputs": [
        {
          "output_type": "execute_result",
          "data": {
            "application/vnd.google.colaboratory.intrinsic+json": {
              "type": "string"
            },
            "text/plain": [
              "\"Key Features of Alisha Solid Women's Cycling Shorts Cotton Lycra Navy, Red, Navy,Specifications of Alisha Solid Women's Cycling Shorts Shorts Details Number of Contents in Sales Package Pack of 3 Fabric Cotton Lycra Type Cycling Shorts General Details Pattern Solid Ideal For Women's Fabric Care Gentle Machine Wash in Lukewarm Water, Do Not Bleach Additional Details Style Code ALTHT_3P_21 In the Box 3 shorts\""
            ]
          },
          "metadata": {
            "tags": []
          },
          "execution_count": 691
        }
      ]
    },
    {
      "cell_type": "code",
      "metadata": {
        "colab": {
          "base_uri": "https://localhost:8080/",
          "height": 164
        },
        "id": "MAy_rT_OB7ca",
        "outputId": "41bae9b2-4b37-486a-9e47-faed4d6e3d07"
      },
      "source": [
        "data[\"description\"][1]"
      ],
      "execution_count": 692,
      "outputs": [
        {
          "output_type": "execute_result",
          "data": {
            "application/vnd.google.colaboratory.intrinsic+json": {
              "type": "string"
            },
            "text/plain": [
              "\"FabHomeDecor Fabric Double Sofa Bed (Finish Color - Leatherette Black Mechanism Type - Pull Out) Price: Rs. 22,646 • Fine deep seating experience • Save Space with the all new click clack Sofa Bed • Easy to fold and vice versa with simple click clack mechanism • Chrome legs with mango wood frame for long term durability • Double cushioned Sofa Bed to provide you with extra softness to make a fine seating experience • A double bed that can easily sleep two,Specifications of FabHomeDecor Fabric Double Sofa Bed (Finish Color - Leatherette Black Mechanism Type - Pull Out) Installation & Demo Installation & Demo Details Installation and demo for this product is done free of cost as part of this purchase. Our service partner will visit your location within 72 business hours from the delivery of the product. In The Box 1 Sofa Bed General Brand FabHomeDecor Mattress Included No Delivery Condition Knock Down Storage Included No Mechanism Type Pull Out Type Sofa Bed Style Contemporary & Modern Filling Material Microfiber Seating Capacity 3 Seater Upholstery Type NA Upholstery Included No Bed Size Double Shape Square Suitable For Living Room Model Number FHD112 Care Instructions Avoid outdoor use and exposure to water or prolonged moisture, Avoid exposure to direct heat or sunlight as this can cause the sofa colour to fade, Keep sharp objects away from your sofa, A little tear on the fabric cover may be hard to repair, Vacuum your sofas periodically with a soft bristled bru...View More Avoid outdoor use and exposure to water or prolonged moisture, Avoid exposure to direct heat or sunlight as this can cause the sofa colour to fade, Keep sharp objects away from your sofa, A little tear on the fabric cover may be hard to repair, Vacuum your sofas periodically with a soft bristled brush attachment or lightly brush them to keep general dirt and dust off the sofa and prevent any embedding between the fibres, Try to avoid food and drink spillage of any kind, If spills occur, do not leave unattended, In case of a stain, a water-free fabric cleaner can be used, However, avoid applying the cleaner directly on the stain as this can cause damage to the fabric and fade colour, Pour the cleaner onto a clean cloth and test its effect on a hidden area of the sofa before cleaning the stain with the cloth, A professional scotchguard treatment is one of the easiest and most effective options to protect against spills or stains and keep pet hair at bay, Getting your sofa professionally cleaned once every 6-8 months will not only take care of the nooks and corners that you can't reach, it will also make it more durable Finish Type Matte Important Note Cancellation NOT allowed for this product after 24 hrs of order booking. Warranty Covered in Warranty Warranty covers all kind of manufacturing defects. Concerned product will either be repaired or replaced based on discretion. Service Type Manufacturer Warranty Warranty Summary 6 Months Domestic Warranty Not Covered in Warranty Warranty does not cover for Improper Handling Dimensions Weight 40 kg Height 838 mm Width 1905 mm Depth 939 mm Disclaimer - The color of the product may vary slightly compared to the picture displayed on your screen. This is due to lighting, pixel quality and color settings - Please check the product's dimensions to ensure the product will fit in the desired location. Also, check if the product will fit through...View More - The color of the product may vary slightly compared to the picture displayed on your screen. This is due to lighting, pixel quality and color settings - Please check the product's dimensions to ensure the product will fit in the desired location. Also, check if the product will fit through the entrance(s) and door(s) of the premises - Please expect an unevenness of up to 5 mm in the product due to differences in surfaces and floor levels - Flipkart, or the Seller delivering the product, will not take up any type of civil work, such as drilling holes in the wall to mount the product. The product will only be assembled in case carpentry assembly is required - In case the product appears to lack shine, wiping the surface with a cloth will help clear the surface of dust particles Material & Color Upholstery Color Leatherette Black Primary Color Black Primary Material Fabric Secondary Material Subtype Mango Wood Secondary Material Foam Finish Color Leatherette Black Primary Material Subtype Foam\""
            ]
          },
          "metadata": {
            "tags": []
          },
          "execution_count": 692
        }
      ]
    },
    {
      "cell_type": "code",
      "metadata": {
        "id": "ISlg2dWDC3Rb"
      },
      "source": [
        "# creating a new column data[\"new_desc\"] from data[\"description\"]\r\n",
        "data[\"new_desc\"] = data[\"description\"]"
      ],
      "execution_count": 693,
      "outputs": []
    },
    {
      "cell_type": "code",
      "metadata": {
        "id": "j5B3ZMGzDaMH"
      },
      "source": [
        "# removing the Rs. from the data since our end-token is the '.'\r\n",
        "data[\"new_desc\"] = data[\"new_desc\"].str.replace(r'Rs.', '',regex=True)"
      ],
      "execution_count": 694,
      "outputs": []
    },
    {
      "cell_type": "code",
      "metadata": {
        "colab": {
          "base_uri": "https://localhost:8080/",
          "height": 164
        },
        "id": "InAglvQdDaJq",
        "outputId": "848e12d9-03d4-4e6f-8a14-b83440447283"
      },
      "source": [
        "data[\"new_desc\"][1]"
      ],
      "execution_count": 695,
      "outputs": [
        {
          "output_type": "execute_result",
          "data": {
            "application/vnd.google.colaboratory.intrinsic+json": {
              "type": "string"
            },
            "text/plain": [
              "\"FabHomeDecor Fabric Double Sofa Bed (Finish Color - Leatherette Black Mechanism Type - Pull Out) Price:  22,646 • Fine deep seating experience • Save Space with the all new click clack Sofa Bed • Easy to fold and vice versa with simple click clack mechanism • Chrome legs with mango wood frame for long term durability • Double cushioned Sofa Bed to provide you with extra softness to make a fine seating experience • A double bed that can easily sleep two,Specifications of FabHomeDecor Fabric Double Sofa Bed (Finish Color - Leatherette Black Mechanism Type - Pull Out) Installation & Demo Installation & Demo Details Installation and demo for this product is done free of cost as part of this purchase. Our service partner will visit your location within 72 business hours from the delivery of the product. In The Box 1 Sofa Bed General Brand FabHomeDecor Mattress Included No Delivery Condition Knock Down Storage Included No Mechanism Type Pull Out Type Sofa Bed Style Contemporary & Modern Filling Material Microfiber Seating Capacity 3 Seater Upholstery Type NA Upholstery Included No Bed Size Double Shape Square Suitable For Living Room Model Number FHD112 Care Instructions Avoid outdoor use and exposure to water or prolonged moisture, Avoid exposure to direct heat or sunlight as this can cause the sofa colour to fade, Keep sharp objects away from your sofa, A little tear on the fabric cover may be hard to repair, Vacuum your sofas periodically with a soft bristled bru...View More Avoid outdoor use and exposure to water or prolonged moisture, Avoid exposure to direct heat or sunlight as this can cause the sofa colour to fade, Keep sharp objects away from your sofa, A little tear on the fabric cover may be hard to repair, Vacuum your sofas periodically with a soft bristled brush attachment or lightly brush them to keep general dirt and dust off the sofa and prevent any embedding between the fibres, Try to avoid food and drink spillage of any kind, If spills occur, do not leave unattended, In case of a stain, a water-free fabric cleaner can be used, However, avoid applying the cleaner directly on the stain as this can cause damage to the fabric and fade colour, Pour the cleaner onto a clean cloth and test its effect on a hidden area of the sofa before cleaning the stain with the cloth, A professional scotchguard treatment is one of the easiest and most effective options to protect against spills or stains and keep pet hair at bay, Getting your sofa professionally cleaned once every 6-8 months will not only take care of the nooks and corners that you can't reach, it will also make it more durable Finish Type Matte Important Note Cancellation NOT allowed for this product after 24 hrs of order booking. Warranty Covered in Warranty Warranty covers all kind of manufacturing defects. Concerned product will either be repaired or replaced based on discretion. Service Type Manufacturer Warranty Warranty Summary 6 Months Domestic Warranty Not Covered in Warranty Warranty does not cover for Improper Handling Dimensions Weight 40 kg Height 838 mm Width 1905 mm Depth 939 mm Disclaimer - The color of the product may vary slightly compared to the picture displayed on your screen. This is due to lighting, pixel quality and color settings - Please check the product's dimensions to ensure the product will fit in the desired location. Also, check if the product will fit through...View More - The color of the product may vary slightly compared to the picture displayed on your screen. This is due to lighting, pixel quality and color settings - Please check the product's dimensions to ensure the product will fit in the desired location. Also, check if the product will fit through the entrance(s) and door(s) of the premises - Please expect an unevenness of up to 5 mm in the product due to differences in surfaces and floor levels - Flipkart, or the Seller delivering the product, will not take up any type of civil work, such as drilling holes in the wall to mount the product. The product will only be assembled in case carpentry assembly is required - In case the product appears to lack shine, wiping the surface with a cloth will help clear the surface of dust particles Material & Color Upholstery Color Leatherette Black Primary Color Black Primary Material Fabric Secondary Material Subtype Mango Wood Secondary Material Foam Finish Color Leatherette Black Primary Material Subtype Foam\""
            ]
          },
          "metadata": {
            "tags": []
          },
          "execution_count": 695
        }
      ]
    },
    {
      "cell_type": "code",
      "metadata": {
        "id": "RfZzVpoCDaGT"
      },
      "source": [
        "# replace the bullets with period.\r\n",
        "data[\"new_desc\"] = data[\"new_desc\"].str.replace(r'\\u2022+?',r'.',regex=True)"
      ],
      "execution_count": 696,
      "outputs": []
    },
    {
      "cell_type": "code",
      "metadata": {
        "id": "DQrqYjCbDaD_"
      },
      "source": [
        "# replace the comma between the words with nothing(empty space)\r\n",
        "data[\"new_desc\"] = data[\"new_desc\"].str.replace(r'(?<=\\d),(?=\\d)', r'',regex=True)"
      ],
      "execution_count": 697,
      "outputs": []
    },
    {
      "cell_type": "code",
      "metadata": {
        "colab": {
          "base_uri": "https://localhost:8080/",
          "height": 164
        },
        "id": "imYB8bCJDaAo",
        "outputId": "5fba6156-a605-41bd-f65b-7ab666be0e5d"
      },
      "source": [
        "data[\"new_desc\"][1]"
      ],
      "execution_count": 698,
      "outputs": [
        {
          "output_type": "execute_result",
          "data": {
            "application/vnd.google.colaboratory.intrinsic+json": {
              "type": "string"
            },
            "text/plain": [
              "\"FabHomeDecor Fabric Double Sofa Bed (Finish Color - Leatherette Black Mechanism Type - Pull Out) Price:  22646 . Fine deep seating experience . Save Space with the all new click clack Sofa Bed . Easy to fold and vice versa with simple click clack mechanism . Chrome legs with mango wood frame for long term durability . Double cushioned Sofa Bed to provide you with extra softness to make a fine seating experience . A double bed that can easily sleep two,Specifications of FabHomeDecor Fabric Double Sofa Bed (Finish Color - Leatherette Black Mechanism Type - Pull Out) Installation & Demo Installation & Demo Details Installation and demo for this product is done free of cost as part of this purchase. Our service partner will visit your location within 72 business hours from the delivery of the product. In The Box 1 Sofa Bed General Brand FabHomeDecor Mattress Included No Delivery Condition Knock Down Storage Included No Mechanism Type Pull Out Type Sofa Bed Style Contemporary & Modern Filling Material Microfiber Seating Capacity 3 Seater Upholstery Type NA Upholstery Included No Bed Size Double Shape Square Suitable For Living Room Model Number FHD112 Care Instructions Avoid outdoor use and exposure to water or prolonged moisture, Avoid exposure to direct heat or sunlight as this can cause the sofa colour to fade, Keep sharp objects away from your sofa, A little tear on the fabric cover may be hard to repair, Vacuum your sofas periodically with a soft bristled bru...View More Avoid outdoor use and exposure to water or prolonged moisture, Avoid exposure to direct heat or sunlight as this can cause the sofa colour to fade, Keep sharp objects away from your sofa, A little tear on the fabric cover may be hard to repair, Vacuum your sofas periodically with a soft bristled brush attachment or lightly brush them to keep general dirt and dust off the sofa and prevent any embedding between the fibres, Try to avoid food and drink spillage of any kind, If spills occur, do not leave unattended, In case of a stain, a water-free fabric cleaner can be used, However, avoid applying the cleaner directly on the stain as this can cause damage to the fabric and fade colour, Pour the cleaner onto a clean cloth and test its effect on a hidden area of the sofa before cleaning the stain with the cloth, A professional scotchguard treatment is one of the easiest and most effective options to protect against spills or stains and keep pet hair at bay, Getting your sofa professionally cleaned once every 6-8 months will not only take care of the nooks and corners that you can't reach, it will also make it more durable Finish Type Matte Important Note Cancellation NOT allowed for this product after 24 hrs of order booking. Warranty Covered in Warranty Warranty covers all kind of manufacturing defects. Concerned product will either be repaired or replaced based on discretion. Service Type Manufacturer Warranty Warranty Summary 6 Months Domestic Warranty Not Covered in Warranty Warranty does not cover for Improper Handling Dimensions Weight 40 kg Height 838 mm Width 1905 mm Depth 939 mm Disclaimer - The color of the product may vary slightly compared to the picture displayed on your screen. This is due to lighting, pixel quality and color settings - Please check the product's dimensions to ensure the product will fit in the desired location. Also, check if the product will fit through...View More - The color of the product may vary slightly compared to the picture displayed on your screen. This is due to lighting, pixel quality and color settings - Please check the product's dimensions to ensure the product will fit in the desired location. Also, check if the product will fit through the entrance(s) and door(s) of the premises - Please expect an unevenness of up to 5 mm in the product due to differences in surfaces and floor levels - Flipkart, or the Seller delivering the product, will not take up any type of civil work, such as drilling holes in the wall to mount the product. The product will only be assembled in case carpentry assembly is required - In case the product appears to lack shine, wiping the surface with a cloth will help clear the surface of dust particles Material & Color Upholstery Color Leatherette Black Primary Color Black Primary Material Fabric Secondary Material Subtype Mango Wood Secondary Material Foam Finish Color Leatherette Black Primary Material Subtype Foam\""
            ]
          },
          "metadata": {
            "tags": []
          },
          "execution_count": 698
        }
      ]
    },
    {
      "cell_type": "code",
      "metadata": {
        "colab": {
          "base_uri": "https://localhost:8080/",
          "height": 72
        },
        "id": "D9mcx4H_vXRc",
        "outputId": "e5104fc1-6e24-4038-cdf8-d7571d134ca7"
      },
      "source": [
        "data[\"new_desc\"][0]"
      ],
      "execution_count": 699,
      "outputs": [
        {
          "output_type": "execute_result",
          "data": {
            "application/vnd.google.colaboratory.intrinsic+json": {
              "type": "string"
            },
            "text/plain": [
              "\"Key Features of Alisha Solid Women's Cycling Shorts Cotton Lycra Navy, Red, Navy,Specifications of Alisha Solid Women's Cycling Shorts Shorts Details Number of Contents in Sales Package Pack of 3 Fabric Cotton Lycra Type Cycling Shorts General Details Pattern Solid Ideal For Women's Fabric Care Gentle Machine Wash in Lukewarm Water, Do Not Bleach Additional Details Style Code ALTHT_3P_21 In the Box 3 shorts\""
            ]
          },
          "metadata": {
            "tags": []
          },
          "execution_count": 699
        }
      ]
    },
    {
      "cell_type": "code",
      "metadata": {
        "colab": {
          "base_uri": "https://localhost:8080/",
          "height": 164
        },
        "id": "vtnWMDYFQOpa",
        "outputId": "7403798d-8030-4760-9f10-f764aa8aaf61"
      },
      "source": [
        "data[\"new_desc\"][439]"
      ],
      "execution_count": 700,
      "outputs": [
        {
          "output_type": "execute_result",
          "data": {
            "application/vnd.google.colaboratory.intrinsic+json": {
              "type": "string"
            },
            "text/plain": [
              "\"Asian Gems & Jewels 6.25 Ratti 5 Dhaatu Sterling Silver, Metal, Alloy Cat's Eye NA K Ring\\n                         Price:  828\\n\\t\\t\\t\\t\\n\\t\\t\\tAsian Gem & Jewellery offers you Panch dhaatu Cultured Gemstone Finger Ring . 'ASIAN GEMS & JEWELS' and all its grading standards and content (Copyright Registered)\\n belongs to the Owners of NEW INDIA WORKS (NIW).\\nIn Hindi, '9' means 'Nav' and '5' means 'Punch'. Gem is called 'Ratna', whereas any 'Metal or Mineral or Element' is referred as 'Dhaatu'.\\nRegarding 9 Gemstones. 'Nav Ratnas' means an 'Astro Planetary' communicating team of 9 Precious and Semi Precious Gemstones those are believed to reach and connect out to 9 Planets residing, revolving in our galaxy. \\nIn the Birth Horoscope of an individual, if any planet is weak or some other planets are not sitting in the right degree/position or house or are opposing or suppressing some other planets than :-\\nRUBY (MANIK) is considered to connect, enhance and empower Planet Sun (Surya) . \\nBLUE SAPPHIRE (NEELAM) is considered to connect, enhance and empower Planet Saturn (Shani). \\nYELLOW SAPPHIRE (PUKHRAJ) is considered to connect, enhance and empower Planet Jupiter (Guru).\\nCORAL (MOONGA ) is considered to connect, enhance and empower Planet Mars (Moonga).\\nEMERALD (PANNA) is considered to connect, enhance and empower Planet Mercury (Budh).\\nPEARL (MOTI) is considered to connect, enhance and empower Planet Moon (Chandra)\\nHESSONITE (GOMEDH) is considered to connect, enhance and empower invisible Planet Rahu.\\nCAT'S EYE (LEHSUNIYA) is considered to connect, enhance and empower invisble Planet Ketu\\nDIAMOND (HIRA ) is considered to connect, enhance and empower Planet Venus (Shukra)\\nRegarding PUNCH DHAATU : Nature consists of 5 Elements space, fire, air, water, earth or \\nsay all planetary materials , some of basic metals such as iron, copper, zinc, silver, gold. \\n'Punch Daathu' team are supposed to communicate with Planets as well as earth. These 5 metals or elements found in earth those are believed to reach out motherly earth who is responsible to give birth to all beings. Our body also is a good conductor of these metals and such are said to strengthen other weaknesses of body. \\nIf in the Birth Horoscope of an individual, any planet is weak or some other planets are not sitting in th right position or degree in the concerned houses or are opposing or suppressing some other planets than wearing these '5 Auspicious Metals' also are believed to help and support the individual. \\nMoreover, Every Zodiac Sign has a positive effects by these '5 Earth Borne Metals' . They are good for over all health, wealth and happiness.\\nThese 5 metals ( Punch Dhaatus ) are in built in earth since the Earth was in making.\\nAsian Gem & Jewellery offers you Panch dhaatu Cultured Gemstone Finger Ring . 'ASIAN GEMS & JEWELS' and all its grading standards and content (Copyright Registered)\\n belongs to the Owners of NEW INDIA WORKS (NIW).\\nIn Hindi, '9' means 'Nav' and '5' means 'Punch'. Gem is called 'Ratna', whereas any 'Metal or Mineral or Element' is referred as 'Dhaatu'.\\nRegarding 9 Gemstones. 'Nav Ratnas' means an 'Astro Planetary' communicating team of 9 Precious and Semi Precious Gemstones those are believed to reach and connect out to 9 Planets residing, revolving in our galaxy. \\nIn the Birth Horoscope of an individual, if any planet is weak or some other planets are not sitting in the right degree/position or house or are opposing or suppressing some other planets than :-\\nRUBY (MANIK) is considered to connect, enhance and empower Planet Sun (Surya) . \\nBLUE SAPPHIRE (NEELAM) is considered to connect, enhance and empower Planet Saturn (Shani). \\nYELLOW SAPPHIRE (PUKHRAJ) is considered to connect, enhance and empower Planet Jupiter (Guru).\\nCORAL (MOONGA ) is considered to connect, enhance and empower Planet Mars (Moonga).\\nEMERALD (PANNA) is considered to connect, enhance and empower Planet Mercury (Budh).\\nPEARL (MOTI) is considered to connect, enhance and empower Planet Moon (Chandra)\\nHESSONITE (GOMEDH) is considered to connect, enhance and empower invisible Planet Rahu.\\nCAT'S EYE (LEHSUNIYA) is considered to connect, enhance and empower invisble Planet Ketu\\nDIAMOND (HIRA ) is considered to connect, enhance and empower Planet Venus (Shukra)\\nRegarding PUNCH DHAATU : Nature consists of 5 Elements space, fire, air, water, earth or \\nsay all planetary materials , some of basic metals such as iron, copper, zinc, silver, gold. \\n'Punch Daathu' team are supposed to communicate with Planets as well as earth. These 5 metals or elements found in earth those are believed to reach out motherly earth who is responsible to give birth to all beings. Our body also is a good conductor of these metals and such are said to strengthen other weaknesses of body. \\nIf in the Birth Horoscope of an individual, any planet is weak or some other planets are not sitting in th right position or degree in the concerned houses or are opposing or suppressing some other planets than wearing these '5 Auspicious Metals' also are believed to help and support the individual. \\nMoreover, Every Zodiac Sign has a positive effects by these '5 Earth Borne Metals' . They are good for over all health, wealth and happiness.\\nThese 5 metals ( Punch Dhaatus ) are in built in earth since the Earth was in making.\""
            ]
          },
          "metadata": {
            "tags": []
          },
          "execution_count": 700
        }
      ]
    },
    {
      "cell_type": "code",
      "metadata": {
        "id": "wr0v64IDDZ-s"
      },
      "source": [
        "# this is a regex creating a space after : or , or ; or ( or - when the immediate character that follows is not space.\r\n",
        "data[\"new_desc\"] = data[\"new_desc\"].str.replace(r'(?<=[:;,(-])(?=[^\\s])', r' ',regex=True)"
      ],
      "execution_count": 701,
      "outputs": []
    },
    {
      "cell_type": "code",
      "metadata": {
        "id": "B0bAcf9oDZ7j"
      },
      "source": [
        "# this is a regex creates a space for every word character that is followed by any of the non-word charcter defined in the positive lookahead group ([!):;,-])\r\n",
        "data[\"new_desc\"] = data[\"new_desc\"].str.replace(r'(?<=[\\w])([!):;,-])', r' \\1',regex=True)"
      ],
      "execution_count": 702,
      "outputs": []
    },
    {
      "cell_type": "code",
      "metadata": {
        "id": "950zvCoIZJpr"
      },
      "source": [
        "# this is a regex creates a space for every word character or non-word character that is followed by one or more period(non-word charcter) \r\n",
        "# defined in the positive lookahead group (\\.+)\r\n",
        "data[\"new_desc\"] = data[\"new_desc\"].str.replace(r'(?<=[\\w\\W])([\\.+])', r' ',regex=True)"
      ],
      "execution_count": 703,
      "outputs": []
    },
    {
      "cell_type": "code",
      "metadata": {
        "id": "uDyYwZsrDZ5L"
      },
      "source": [
        "# this sis a regex that creates a single space in place of multiple spaces\r\n",
        "data[\"new_desc\"] = data[\"new_desc\"].str.replace(r'\\s{2,}', r' ',regex=True)"
      ],
      "execution_count": 704,
      "outputs": []
    },
    {
      "cell_type": "code",
      "metadata": {
        "id": "efEbIYzcDZ02"
      },
      "source": [
        "# this is a regex creates a space for every word character or non-word character that is followed by one or more newline (non-word charcter) \r\n",
        "# defined in the positive lookahead group (\\n+)\r\n",
        "data[\"new_desc\"] = data[\"new_desc\"].str.replace(r'(?<=[\\w\\W])([\\n+])', r' ',regex=True)"
      ],
      "execution_count": 705,
      "outputs": []
    },
    {
      "cell_type": "code",
      "metadata": {
        "id": "mQ2nC5eMUpN5"
      },
      "source": [
        "# the regex for replacing single commas by no space charcater\r\n",
        "data[\"new_desc\"] = data[\"new_desc\"].str.replace(r',', r'', regex=True)"
      ],
      "execution_count": 706,
      "outputs": []
    },
    {
      "cell_type": "code",
      "metadata": {
        "id": "926QBmCNVR4j"
      },
      "source": [
        "# According to the text since the colon and the semicolon characters formed a meaningful sentence end, these characters are replaced by period.\r\n",
        "# This is a regex to replace the colon(:) and the semicolon(;) by the period(.)\r\n",
        "data[\"new_desc\"] = data[\"new_desc\"].str.replace(r'[:;]', r'.', regex=True)"
      ],
      "execution_count": 707,
      "outputs": []
    },
    {
      "cell_type": "code",
      "metadata": {
        "colab": {
          "base_uri": "https://localhost:8080/",
          "height": 91
        },
        "id": "u9RzszvrWrZ6",
        "outputId": "92601ceb-1409-4053-a744-6b3c2e234ca4"
      },
      "source": [
        "data[\"new_desc\"][5357]"
      ],
      "execution_count": 708,
      "outputs": [
        {
          "output_type": "execute_result",
          "data": {
            "application/vnd.google.colaboratory.intrinsic+json": {
              "type": "string"
            },
            "text/plain": [
              "\"Specifications of Mi Dulce An'ya Solid Single Breasted Formal Boy's Blazer General Details Ideal For Boy's Occasion Formal Pattern Solid Blazer Details Type Single Breasted Fabric Organic Cotton Sleeve Full Sleeve Closure Button Pockets 2 Front Slip Pockets Vents Vent at back Lining Cotton Lining Number of Contents in Sales Package Pack of 1 Fabric Care Gentle Wash With Similar Colors Additional Details Style Code SS15 - IB - WC001A In the Box Blazer\""
            ]
          },
          "metadata": {
            "tags": []
          },
          "execution_count": 708
        }
      ]
    },
    {
      "cell_type": "code",
      "metadata": {
        "id": "9AsCsmemSK-S"
      },
      "source": [
        "# regex to remove the single quotes between the word characters in a given text\r\n",
        "data[\"new_desc\"] =  data[\"new_desc\"].str.replace(r'(?<=[a-zA-Z\\d\\s])\\'(?=[a-zA-Z\\d\\s])', r\"\", regex=True)"
      ],
      "execution_count": 709,
      "outputs": []
    },
    {
      "cell_type": "code",
      "metadata": {
        "colab": {
          "base_uri": "https://localhost:8080/",
          "height": 164
        },
        "id": "uZFMO6JpDZzE",
        "outputId": "531d26a1-71d9-4c32-b07b-451505e3c692"
      },
      "source": [
        "# check few examples after cleaning the data.\r\n",
        "data[\"new_desc\"][93]"
      ],
      "execution_count": 710,
      "outputs": [
        {
          "output_type": "execute_result",
          "data": {
            "application/vnd.google.colaboratory.intrinsic+json": {
              "type": "string"
            },
            "text/plain": [
              "'Vizion 8503B - 1RED Cold Light Digital Watch - For Boys  Girls Price . 595 Brand . Vizion  Sports Series watch for Kids  1 year manufacturer warranty  Digital display  Automatic movement  Metal Case and solid body  Dial shape . Round  Dial dimension . 22mm  Strap material . Silicone  Strap width . 20mm  Water resistant  Night display cold backLight  Daily Alarm  Hour minute second  date week display  12/24 hour format  Attractive brand packaging - Tuff plastic box  Note . In case of non - receipt of warranty card  please intimate us within 48 hours  Disclaimer . Product color may slightly vary due to photographic lighting sources or your monitor settings ( The image has been enlarged for better viewing ) Brand . Vizion  Sports Series watch for Kids  1 year manufacturer warranty  Digital display  Automatic movement  Metal Case and solid body  Dial shape . Round  Dial dimension . 22mm  Strap material . Silicone  Strap width . 20mm  Water resistant  Night display cold backLight  Daily Alarm  Hour minute second  date week display  12/24 hour format  Attractive brand packaging - Tuff plastic box  Note . In case of non - receipt of warranty card  please intimate us within 48 hours  Disclaimer . Product color may slightly vary due to photographic lighting sources or your monitor settings ( The image has been enlarged for better viewing )'"
            ]
          },
          "metadata": {
            "tags": []
          },
          "execution_count": 710
        }
      ]
    },
    {
      "cell_type": "code",
      "metadata": {
        "colab": {
          "base_uri": "https://localhost:8080/",
          "height": 72
        },
        "id": "P7oWerkJGOFo",
        "outputId": "e1478c5f-4bbb-4af3-a453-172cda5d1370"
      },
      "source": [
        "data[\"new_desc\"][0]"
      ],
      "execution_count": 711,
      "outputs": [
        {
          "output_type": "execute_result",
          "data": {
            "application/vnd.google.colaboratory.intrinsic+json": {
              "type": "string"
            },
            "text/plain": [
              "'Key Features of Alisha Solid Womens Cycling Shorts Cotton Lycra Navy  Red  Navy  Specifications of Alisha Solid Womens Cycling Shorts Shorts Details Number of Contents in Sales Package Pack of 3 Fabric Cotton Lycra Type Cycling Shorts General Details Pattern Solid Ideal For Womens Fabric Care Gentle Machine Wash in Lukewarm Water  Do Not Bleach Additional Details Style Code ALTHT_3P_21 In the Box 3 shorts'"
            ]
          },
          "metadata": {
            "tags": []
          },
          "execution_count": 711
        }
      ]
    },
    {
      "cell_type": "code",
      "metadata": {
        "colab": {
          "base_uri": "https://localhost:8080/",
          "height": 109
        },
        "id": "CpVeQeJQGTdK",
        "outputId": "f01a1d9e-9efd-4991-999f-ac948fe31da3"
      },
      "source": [
        "data[\"new_desc\"][2]"
      ],
      "execution_count": 712,
      "outputs": [
        {
          "output_type": "execute_result",
          "data": {
            "application/vnd.google.colaboratory.intrinsic+json": {
              "type": "string"
            },
            "text/plain": [
              "'Key Features of AW Bellies Sandals Wedges Heel Casuals  AW Bellies Price . 499 Material . Synthetic Lifestyle . Casual Heel Type . Wedge Warranty Type . Manufacturer Product Warranty against manufacturing defects . 30 days Care instructions . Allow your pair of shoes to air and de - odorize at regular basis . use shoe bags to prevent any stains or mildew . dust any dry dirt from the surface using a clean cloth . do not use polish or shiner  Specifications of AW Bellies General Ideal For Women Occasion Casual Shoe Details Color Red Outer Material Patent Leather Heel Height 1 inch Number of Contents in Sales Package Pack of 1 In the Box One Pair Of Shoes'"
            ]
          },
          "metadata": {
            "tags": []
          },
          "execution_count": 712
        }
      ]
    },
    {
      "cell_type": "code",
      "metadata": {
        "colab": {
          "base_uri": "https://localhost:8080/",
          "height": 164
        },
        "id": "RdQ0WU9aTX_C",
        "outputId": "1f270536-5571-44be-dbb5-a030213ccff8"
      },
      "source": [
        "data[\"new_desc\"][439]"
      ],
      "execution_count": 713,
      "outputs": [
        {
          "output_type": "execute_result",
          "data": {
            "application/vnd.google.colaboratory.intrinsic+json": {
              "type": "string"
            },
            "text/plain": [
              "'Asian Gems & Jewels 6 25 Ratti 5 Dhaatu Sterling Silver  Metal  Alloy Cats Eye NA K Ring Price . 828 Asian Gem & Jewellery offers you Panch dhaatu Cultured Gemstone Finger Ring ASIAN GEMS & JEWELS and all its grading standards and content ( Copyright Registered ) belongs to the Owners of NEW INDIA WORKS ( NIW ) In Hindi  9 means Nav and 5 means Punch Gem is called Ratna whereas any Metal or Mineral or Element is referred as Dhaatu Regarding 9 Gemstones Nav Ratnas means an Astro Planetary communicating team of 9 Precious and Semi Precious Gemstones those are believed to reach and connect out to 9 Planets residing  revolving in our galaxy In the Birth Horoscope of an individual  if any planet is weak or some other planets are not sitting in the right degree/position or house or are opposing or suppressing some other planets than . - RUBY ( MANIK ) is considered to connect  enhance and empower Planet Sun ( Surya ) BLUE SAPPHIRE ( NEELAM ) is considered to connect  enhance and empower Planet Saturn ( Shani ) YELLOW SAPPHIRE ( PUKHRAJ ) is considered to connect  enhance and empower Planet Jupiter ( Guru ) CORAL ( MOONGA ) is considered to connect  enhance and empower Planet Mars ( Moonga ) EMERALD ( PANNA ) is considered to connect  enhance and empower Planet Mercury ( Budh ) PEARL ( MOTI ) is considered to connect  enhance and empower Planet Moon ( Chandra ) HESSONITE ( GOMEDH ) is considered to connect  enhance and empower invisible Planet Rahu CATS EYE ( LEHSUNIYA ) is considered to connect  enhance and empower invisble Planet Ketu DIAMOND ( HIRA ) is considered to connect  enhance and empower Planet Venus ( Shukra ) Regarding PUNCH DHAATU . Nature consists of 5 Elements space  fire  air  water  earth or say all planetary materials  some of basic metals such as iron  copper  zinc  silver  gold Punch Daathu team are supposed to communicate with Planets as well as earth These 5 metals or elements found in earth those are believed to reach out motherly earth who is responsible to give birth to all beings Our body also is a good conductor of these metals and such are said to strengthen other weaknesses of body If in the Birth Horoscope of an individual  any planet is weak or some other planets are not sitting in th right position or degree in the concerned houses or are opposing or suppressing some other planets than wearing these 5 Auspicious Metals also are believed to help and support the individual Moreover  Every Zodiac Sign has a positive effects by these 5 Earth Borne Metals They are good for over all health  wealth and happiness These 5 metals ( Punch Dhaatus ) are in built in earth since the Earth was in making Asian Gem & Jewellery offers you Panch dhaatu Cultured Gemstone Finger Ring ASIAN GEMS & JEWELS and all its grading standards and content ( Copyright Registered ) belongs to the Owners of NEW INDIA WORKS ( NIW ) In Hindi  9 means Nav and 5 means Punch Gem is called Ratna whereas any Metal or Mineral or Element is referred as Dhaatu Regarding 9 Gemstones Nav Ratnas means an Astro Planetary communicating team of 9 Precious and Semi Precious Gemstones those are believed to reach and connect out to 9 Planets residing  revolving in our galaxy In the Birth Horoscope of an individual  if any planet is weak or some other planets are not sitting in the right degree/position or house or are opposing or suppressing some other planets than . - RUBY ( MANIK ) is considered to connect  enhance and empower Planet Sun ( Surya ) BLUE SAPPHIRE ( NEELAM ) is considered to connect  enhance and empower Planet Saturn ( Shani ) YELLOW SAPPHIRE ( PUKHRAJ ) is considered to connect  enhance and empower Planet Jupiter ( Guru ) CORAL ( MOONGA ) is considered to connect  enhance and empower Planet Mars ( Moonga ) EMERALD ( PANNA ) is considered to connect  enhance and empower Planet Mercury ( Budh ) PEARL ( MOTI ) is considered to connect  enhance and empower Planet Moon ( Chandra ) HESSONITE ( GOMEDH ) is considered to connect  enhance and empower invisible Planet Rahu CATS EYE ( LEHSUNIYA ) is considered to connect  enhance and empower invisble Planet Ketu DIAMOND ( HIRA ) is considered to connect  enhance and empower Planet Venus ( Shukra ) Regarding PUNCH DHAATU . Nature consists of 5 Elements space  fire  air  water  earth or say all planetary materials  some of basic metals such as iron  copper  zinc  silver  gold Punch Daathu team are supposed to communicate with Planets as well as earth These 5 metals or elements found in earth those are believed to reach out motherly earth who is responsible to give birth to all beings Our body also is a good conductor of these metals and such are said to strengthen other weaknesses of body If in the Birth Horoscope of an individual  any planet is weak or some other planets are not sitting in th right position or degree in the concerned houses or are opposing or suppressing some other planets than wearing these 5 Auspicious Metals also are believed to help and support the individual Moreover  Every Zodiac Sign has a positive effects by these 5 Earth Borne Metals They are good for over all health  wealth and happiness These 5 metals ( Punch Dhaatus ) are in built in earth since the Earth was in making '"
            ]
          },
          "metadata": {
            "tags": []
          },
          "execution_count": 713
        }
      ]
    },
    {
      "cell_type": "code",
      "metadata": {
        "colab": {
          "base_uri": "https://localhost:8080/",
          "height": 91
        },
        "id": "N6lZO41FW9Va",
        "outputId": "ee24456e-8fe5-4420-e207-425634f04bba"
      },
      "source": [
        "data[\"new_desc\"][5357]"
      ],
      "execution_count": 714,
      "outputs": [
        {
          "output_type": "execute_result",
          "data": {
            "application/vnd.google.colaboratory.intrinsic+json": {
              "type": "string"
            },
            "text/plain": [
              "'Specifications of Mi Dulce Anya Solid Single Breasted Formal Boys Blazer General Details Ideal For Boys Occasion Formal Pattern Solid Blazer Details Type Single Breasted Fabric Organic Cotton Sleeve Full Sleeve Closure Button Pockets 2 Front Slip Pockets Vents Vent at back Lining Cotton Lining Number of Contents in Sales Package Pack of 1 Fabric Care Gentle Wash With Similar Colors Additional Details Style Code SS15 - IB - WC001A In the Box Blazer'"
            ]
          },
          "metadata": {
            "tags": []
          },
          "execution_count": 714
        }
      ]
    },
    {
      "cell_type": "code",
      "metadata": {
        "id": "mTl6DL9vwOTK"
      },
      "source": [
        "# create a function that splits the data in each row of the data[\"new_desc\"] series by (.)\r\n",
        "data[\"new_desc\"] = data[\"new_desc\"].map(lambda x : str(x).split('.'))"
      ],
      "execution_count": 715,
      "outputs": []
    },
    {
      "cell_type": "code",
      "metadata": {
        "colab": {
          "base_uri": "https://localhost:8080/"
        },
        "id": "mOEK9PxuXIxa",
        "outputId": "0c4b3b88-2425-47e4-ad57-64c02c28a452"
      },
      "source": [
        "data[\"new_desc\"][5357]"
      ],
      "execution_count": 716,
      "outputs": [
        {
          "output_type": "execute_result",
          "data": {
            "text/plain": [
              "['Specifications of Mi Dulce Anya Solid Single Breasted Formal Boys Blazer General Details Ideal For Boys Occasion Formal Pattern Solid Blazer Details Type Single Breasted Fabric Organic Cotton Sleeve Full Sleeve Closure Button Pockets 2 Front Slip Pockets Vents Vent at back Lining Cotton Lining Number of Contents in Sales Package Pack of 1 Fabric Care Gentle Wash With Similar Colors Additional Details Style Code SS15 - IB - WC001A In the Box Blazer']"
            ]
          },
          "metadata": {
            "tags": []
          },
          "execution_count": 716
        }
      ]
    },
    {
      "cell_type": "code",
      "metadata": {
        "id": "rAfQ8Z5QwOQT"
      },
      "source": [
        "def make_list(entry):\r\n",
        "  temp_list=[]\r\n",
        "  for string in entry:\r\n",
        "    string_list = [item for item in string.split(\" \") if not item == \"\"]\r\n",
        "    temp_list.append(string_list)\r\n",
        "  return temp_list"
      ],
      "execution_count": 717,
      "outputs": []
    },
    {
      "cell_type": "code",
      "metadata": {
        "id": "jf1rrYvKwONK"
      },
      "source": [
        "# create a function that splits the data in each row of the data[\"new_desc\"] series by (\" \").\r\n",
        "data[\"new_desc\"] = data[\"new_desc\"].map(lambda x : make_list(x))"
      ],
      "execution_count": 718,
      "outputs": []
    },
    {
      "cell_type": "code",
      "metadata": {
        "id": "ekL5ckCXwOJ0"
      },
      "source": [
        "def append_period(entry):\r\n",
        "  period = \".\"\r\n",
        "  for lt in entry:\r\n",
        "    lt.append(period)\r\n",
        "  return entry\r\n",
        "  "
      ],
      "execution_count": 719,
      "outputs": []
    },
    {
      "cell_type": "code",
      "metadata": {
        "id": "eQkRzj2HwdqK"
      },
      "source": [
        "# create a function that appends each list in each row of the data[\"new_desc\"] series by (.), which shows the end token for each sentence.\r\n",
        "data[\"new_desc\"] = data[\"new_desc\"].map(lambda x : append_period(x))"
      ],
      "execution_count": 720,
      "outputs": []
    },
    {
      "cell_type": "code",
      "metadata": {
        "id": "QK9XV4pRXW7B"
      },
      "source": [
        "# data[\"new_desc\"][5357]"
      ],
      "execution_count": 751,
      "outputs": []
    },
    {
      "cell_type": "code",
      "metadata": {
        "colab": {
          "base_uri": "https://localhost:8080/",
          "height": 293
        },
        "id": "1mlvf44A_H8n",
        "outputId": "29a0f068-346a-436d-c496-0f9f9a448e03"
      },
      "source": [
        "# check the data after transformations.\r\n",
        "data.head()"
      ],
      "execution_count": 732,
      "outputs": [
        {
          "output_type": "execute_result",
          "data": {
            "text/html": [
              "<div>\n",
              "<style scoped>\n",
              "    .dataframe tbody tr th:only-of-type {\n",
              "        vertical-align: middle;\n",
              "    }\n",
              "\n",
              "    .dataframe tbody tr th {\n",
              "        vertical-align: top;\n",
              "    }\n",
              "\n",
              "    .dataframe thead th {\n",
              "        text-align: right;\n",
              "    }\n",
              "</style>\n",
              "<table border=\"1\" class=\"dataframe\">\n",
              "  <thead>\n",
              "    <tr style=\"text-align: right;\">\n",
              "      <th></th>\n",
              "      <th>product_name</th>\n",
              "      <th>product_category_tree</th>\n",
              "      <th>description</th>\n",
              "      <th>brand</th>\n",
              "      <th>new_desc</th>\n",
              "      <th>mainsnak</th>\n",
              "    </tr>\n",
              "  </thead>\n",
              "  <tbody>\n",
              "    <tr>\n",
              "      <th>0</th>\n",
              "      <td>Alisha Solid Womens Cycling Shorts</td>\n",
              "      <td>[\"Clothing &gt;&gt; Women's Clothing &gt;&gt; Lingerie, Sl...</td>\n",
              "      <td>Key Features of Alisha Solid Women's Cycling S...</td>\n",
              "      <td>Alisha</td>\n",
              "      <td>[[Key, Features, of, Alisha, Solid, Womens, Cy...</td>\n",
              "      <td>Clothing</td>\n",
              "    </tr>\n",
              "    <tr>\n",
              "      <th>1</th>\n",
              "      <td>FabHomeDecor Fabric Double Sofa Bed</td>\n",
              "      <td>[\"Furniture &gt;&gt; Living Room Furniture &gt;&gt; Sofa B...</td>\n",
              "      <td>FabHomeDecor Fabric Double Sofa Bed (Finish Co...</td>\n",
              "      <td>FabHomeDecor</td>\n",
              "      <td>[[FabHomeDecor, Fabric, Double, Sofa, Bed, (, ...</td>\n",
              "      <td>Furniture</td>\n",
              "    </tr>\n",
              "    <tr>\n",
              "      <th>2</th>\n",
              "      <td>AW Bellies</td>\n",
              "      <td>[\"Footwear &gt;&gt; Women's Footwear &gt;&gt; Ballerinas &gt;...</td>\n",
              "      <td>Key Features of AW Bellies Sandals Wedges Heel...</td>\n",
              "      <td>AW</td>\n",
              "      <td>[[Key, Features, of, AW, Bellies, Sandals, Wed...</td>\n",
              "      <td>Footwear</td>\n",
              "    </tr>\n",
              "    <tr>\n",
              "      <th>3</th>\n",
              "      <td>Alisha Solid Womens Cycling Shorts</td>\n",
              "      <td>[\"Clothing &gt;&gt; Women's Clothing &gt;&gt; Lingerie, Sl...</td>\n",
              "      <td>Key Features of Alisha Solid Women's Cycling S...</td>\n",
              "      <td>Alisha</td>\n",
              "      <td>[[Key, Features, of, Alisha, Solid, Womens, Cy...</td>\n",
              "      <td>Clothing</td>\n",
              "    </tr>\n",
              "    <tr>\n",
              "      <th>4</th>\n",
              "      <td>Sicons All Purpose Arnica Dog Shampoo</td>\n",
              "      <td>[\"Pet Supplies &gt;&gt; Grooming &gt;&gt; Skin &amp; Coat Care...</td>\n",
              "      <td>Specifications of Sicons All Purpose Arnica Do...</td>\n",
              "      <td>Sicons</td>\n",
              "      <td>[[Specifications, of, Sicons, All, Purpose, Ar...</td>\n",
              "      <td>Pet Supplies</td>\n",
              "    </tr>\n",
              "  </tbody>\n",
              "</table>\n",
              "</div>"
            ],
            "text/plain": [
              "                            product_name  ...      mainsnak\n",
              "0     Alisha Solid Womens Cycling Shorts  ...      Clothing\n",
              "1    FabHomeDecor Fabric Double Sofa Bed  ...     Furniture\n",
              "2                             AW Bellies  ...      Footwear\n",
              "3     Alisha Solid Womens Cycling Shorts  ...      Clothing\n",
              "4  Sicons All Purpose Arnica Dog Shampoo  ...  Pet Supplies\n",
              "\n",
              "[5 rows x 6 columns]"
            ]
          },
          "metadata": {
            "tags": []
          },
          "execution_count": 732
        }
      ]
    },
    {
      "cell_type": "code",
      "metadata": {
        "id": "3GHxuoR_Z7wr"
      },
      "source": [
        "# create new dataframe with useful columns.\r\n",
        "new_df = data[[\"product_name\", \"mainsnak\", \"brand\", \"new_desc\"]]"
      ],
      "execution_count": 733,
      "outputs": []
    },
    {
      "cell_type": "code",
      "metadata": {
        "colab": {
          "base_uri": "https://localhost:8080/",
          "height": 206
        },
        "id": "JMTN28ScZ7tc",
        "outputId": "b76b3e48-4e96-48fb-92ec-807566d1413f"
      },
      "source": [
        "new_df.head()"
      ],
      "execution_count": 734,
      "outputs": [
        {
          "output_type": "execute_result",
          "data": {
            "text/html": [
              "<div>\n",
              "<style scoped>\n",
              "    .dataframe tbody tr th:only-of-type {\n",
              "        vertical-align: middle;\n",
              "    }\n",
              "\n",
              "    .dataframe tbody tr th {\n",
              "        vertical-align: top;\n",
              "    }\n",
              "\n",
              "    .dataframe thead th {\n",
              "        text-align: right;\n",
              "    }\n",
              "</style>\n",
              "<table border=\"1\" class=\"dataframe\">\n",
              "  <thead>\n",
              "    <tr style=\"text-align: right;\">\n",
              "      <th></th>\n",
              "      <th>product_name</th>\n",
              "      <th>mainsnak</th>\n",
              "      <th>brand</th>\n",
              "      <th>new_desc</th>\n",
              "    </tr>\n",
              "  </thead>\n",
              "  <tbody>\n",
              "    <tr>\n",
              "      <th>0</th>\n",
              "      <td>Alisha Solid Womens Cycling Shorts</td>\n",
              "      <td>Clothing</td>\n",
              "      <td>Alisha</td>\n",
              "      <td>[[Key, Features, of, Alisha, Solid, Womens, Cy...</td>\n",
              "    </tr>\n",
              "    <tr>\n",
              "      <th>1</th>\n",
              "      <td>FabHomeDecor Fabric Double Sofa Bed</td>\n",
              "      <td>Furniture</td>\n",
              "      <td>FabHomeDecor</td>\n",
              "      <td>[[FabHomeDecor, Fabric, Double, Sofa, Bed, (, ...</td>\n",
              "    </tr>\n",
              "    <tr>\n",
              "      <th>2</th>\n",
              "      <td>AW Bellies</td>\n",
              "      <td>Footwear</td>\n",
              "      <td>AW</td>\n",
              "      <td>[[Key, Features, of, AW, Bellies, Sandals, Wed...</td>\n",
              "    </tr>\n",
              "    <tr>\n",
              "      <th>3</th>\n",
              "      <td>Alisha Solid Womens Cycling Shorts</td>\n",
              "      <td>Clothing</td>\n",
              "      <td>Alisha</td>\n",
              "      <td>[[Key, Features, of, Alisha, Solid, Womens, Cy...</td>\n",
              "    </tr>\n",
              "    <tr>\n",
              "      <th>4</th>\n",
              "      <td>Sicons All Purpose Arnica Dog Shampoo</td>\n",
              "      <td>Pet Supplies</td>\n",
              "      <td>Sicons</td>\n",
              "      <td>[[Specifications, of, Sicons, All, Purpose, Ar...</td>\n",
              "    </tr>\n",
              "  </tbody>\n",
              "</table>\n",
              "</div>"
            ],
            "text/plain": [
              "                            product_name  ...                                           new_desc\n",
              "0     Alisha Solid Womens Cycling Shorts  ...  [[Key, Features, of, Alisha, Solid, Womens, Cy...\n",
              "1    FabHomeDecor Fabric Double Sofa Bed  ...  [[FabHomeDecor, Fabric, Double, Sofa, Bed, (, ...\n",
              "2                             AW Bellies  ...  [[Key, Features, of, AW, Bellies, Sandals, Wed...\n",
              "3     Alisha Solid Womens Cycling Shorts  ...  [[Key, Features, of, Alisha, Solid, Womens, Cy...\n",
              "4  Sicons All Purpose Arnica Dog Shampoo  ...  [[Specifications, of, Sicons, All, Purpose, Ar...\n",
              "\n",
              "[5 rows x 4 columns]"
            ]
          },
          "metadata": {
            "tags": []
          },
          "execution_count": 734
        }
      ]
    },
    {
      "cell_type": "code",
      "metadata": {
        "id": "1kK8zScJEgI0"
      },
      "source": [
        "# we observe that each row in the column \"new_desc\" is a list of list and each inner list is ended by a \".\" entry\r\n",
        "# new_df[\"new_desc\"][0]"
      ],
      "execution_count": 735,
      "outputs": []
    },
    {
      "cell_type": "code",
      "metadata": {
        "colab": {
          "base_uri": "https://localhost:8080/"
        },
        "id": "W4drGsVVXsXC",
        "outputId": "a7b50535-c623-4fce-c467-afa31e9a91bc"
      },
      "source": [
        "new_df[\"new_desc\"][5357]"
      ],
      "execution_count": 736,
      "outputs": [
        {
          "output_type": "execute_result",
          "data": {
            "text/plain": [
              "[['Specifications',\n",
              "  'of',\n",
              "  'Mi',\n",
              "  'Dulce',\n",
              "  'Anya',\n",
              "  'Solid',\n",
              "  'Single',\n",
              "  'Breasted',\n",
              "  'Formal',\n",
              "  'Boys',\n",
              "  'Blazer',\n",
              "  'General',\n",
              "  'Details',\n",
              "  'Ideal',\n",
              "  'For',\n",
              "  'Boys',\n",
              "  'Occasion',\n",
              "  'Formal',\n",
              "  'Pattern',\n",
              "  'Solid',\n",
              "  'Blazer',\n",
              "  'Details',\n",
              "  'Type',\n",
              "  'Single',\n",
              "  'Breasted',\n",
              "  'Fabric',\n",
              "  'Organic',\n",
              "  'Cotton',\n",
              "  'Sleeve',\n",
              "  'Full',\n",
              "  'Sleeve',\n",
              "  'Closure',\n",
              "  'Button',\n",
              "  'Pockets',\n",
              "  '2',\n",
              "  'Front',\n",
              "  'Slip',\n",
              "  'Pockets',\n",
              "  'Vents',\n",
              "  'Vent',\n",
              "  'at',\n",
              "  'back',\n",
              "  'Lining',\n",
              "  'Cotton',\n",
              "  'Lining',\n",
              "  'Number',\n",
              "  'of',\n",
              "  'Contents',\n",
              "  'in',\n",
              "  'Sales',\n",
              "  'Package',\n",
              "  'Pack',\n",
              "  'of',\n",
              "  '1',\n",
              "  'Fabric',\n",
              "  'Care',\n",
              "  'Gentle',\n",
              "  'Wash',\n",
              "  'With',\n",
              "  'Similar',\n",
              "  'Colors',\n",
              "  'Additional',\n",
              "  'Details',\n",
              "  'Style',\n",
              "  'Code',\n",
              "  'SS15',\n",
              "  '-',\n",
              "  'IB',\n",
              "  '-',\n",
              "  'WC001A',\n",
              "  'In',\n",
              "  'the',\n",
              "  'Box',\n",
              "  'Blazer',\n",
              "  '.']]"
            ]
          },
          "metadata": {
            "tags": []
          },
          "execution_count": 736
        }
      ]
    },
    {
      "cell_type": "code",
      "metadata": {
        "colab": {
          "base_uri": "https://localhost:8080/"
        },
        "id": "MV7L-DVM_icT",
        "outputId": "946949eb-d9fc-40a0-cdfc-e5104ad9422e"
      },
      "source": [
        "len(new_df)"
      ],
      "execution_count": 737,
      "outputs": [
        {
          "output_type": "execute_result",
          "data": {
            "text/plain": [
              "20000"
            ]
          },
          "metadata": {
            "tags": []
          },
          "execution_count": 737
        }
      ]
    },
    {
      "cell_type": "code",
      "metadata": {
        "id": "zGLxnuJz_iQD"
      },
      "source": [
        "# change the column names matching to the wikidataset column names.\r\n",
        "new_df.columns = ['Name_ID', 'mainsnak', 'brand', 'TEXT']"
      ],
      "execution_count": 738,
      "outputs": []
    },
    {
      "cell_type": "code",
      "metadata": {
        "colab": {
          "base_uri": "https://localhost:8080/",
          "height": 206
        },
        "id": "kVovKXZ8_iHK",
        "outputId": "d85f0e4b-45b2-4911-f765-e694661e4ecf"
      },
      "source": [
        "new_df.head()"
      ],
      "execution_count": 739,
      "outputs": [
        {
          "output_type": "execute_result",
          "data": {
            "text/html": [
              "<div>\n",
              "<style scoped>\n",
              "    .dataframe tbody tr th:only-of-type {\n",
              "        vertical-align: middle;\n",
              "    }\n",
              "\n",
              "    .dataframe tbody tr th {\n",
              "        vertical-align: top;\n",
              "    }\n",
              "\n",
              "    .dataframe thead th {\n",
              "        text-align: right;\n",
              "    }\n",
              "</style>\n",
              "<table border=\"1\" class=\"dataframe\">\n",
              "  <thead>\n",
              "    <tr style=\"text-align: right;\">\n",
              "      <th></th>\n",
              "      <th>Name_ID</th>\n",
              "      <th>mainsnak</th>\n",
              "      <th>brand</th>\n",
              "      <th>TEXT</th>\n",
              "    </tr>\n",
              "  </thead>\n",
              "  <tbody>\n",
              "    <tr>\n",
              "      <th>0</th>\n",
              "      <td>Alisha Solid Womens Cycling Shorts</td>\n",
              "      <td>Clothing</td>\n",
              "      <td>Alisha</td>\n",
              "      <td>[[Key, Features, of, Alisha, Solid, Womens, Cy...</td>\n",
              "    </tr>\n",
              "    <tr>\n",
              "      <th>1</th>\n",
              "      <td>FabHomeDecor Fabric Double Sofa Bed</td>\n",
              "      <td>Furniture</td>\n",
              "      <td>FabHomeDecor</td>\n",
              "      <td>[[FabHomeDecor, Fabric, Double, Sofa, Bed, (, ...</td>\n",
              "    </tr>\n",
              "    <tr>\n",
              "      <th>2</th>\n",
              "      <td>AW Bellies</td>\n",
              "      <td>Footwear</td>\n",
              "      <td>AW</td>\n",
              "      <td>[[Key, Features, of, AW, Bellies, Sandals, Wed...</td>\n",
              "    </tr>\n",
              "    <tr>\n",
              "      <th>3</th>\n",
              "      <td>Alisha Solid Womens Cycling Shorts</td>\n",
              "      <td>Clothing</td>\n",
              "      <td>Alisha</td>\n",
              "      <td>[[Key, Features, of, Alisha, Solid, Womens, Cy...</td>\n",
              "    </tr>\n",
              "    <tr>\n",
              "      <th>4</th>\n",
              "      <td>Sicons All Purpose Arnica Dog Shampoo</td>\n",
              "      <td>Pet Supplies</td>\n",
              "      <td>Sicons</td>\n",
              "      <td>[[Specifications, of, Sicons, All, Purpose, Ar...</td>\n",
              "    </tr>\n",
              "  </tbody>\n",
              "</table>\n",
              "</div>"
            ],
            "text/plain": [
              "                                 Name_ID  ...                                               TEXT\n",
              "0     Alisha Solid Womens Cycling Shorts  ...  [[Key, Features, of, Alisha, Solid, Womens, Cy...\n",
              "1    FabHomeDecor Fabric Double Sofa Bed  ...  [[FabHomeDecor, Fabric, Double, Sofa, Bed, (, ...\n",
              "2                             AW Bellies  ...  [[Key, Features, of, AW, Bellies, Sandals, Wed...\n",
              "3     Alisha Solid Womens Cycling Shorts  ...  [[Key, Features, of, Alisha, Solid, Womens, Cy...\n",
              "4  Sicons All Purpose Arnica Dog Shampoo  ...  [[Specifications, of, Sicons, All, Purpose, Ar...\n",
              "\n",
              "[5 rows x 4 columns]"
            ]
          },
          "metadata": {
            "tags": []
          },
          "execution_count": 739
        }
      ]
    },
    {
      "cell_type": "code",
      "metadata": {
        "colab": {
          "base_uri": "https://localhost:8080/"
        },
        "id": "0KsYepTuWE0o",
        "outputId": "35d57ed5-062f-4ced-bd36-c3d51b8af268"
      },
      "source": [
        "new_df.isnull().sum()"
      ],
      "execution_count": 740,
      "outputs": [
        {
          "output_type": "execute_result",
          "data": {
            "text/plain": [
              "Name_ID        0\n",
              "mainsnak       0\n",
              "brand       5864\n",
              "TEXT           0\n",
              "dtype: int64"
            ]
          },
          "metadata": {
            "tags": []
          },
          "execution_count": 740
        }
      ]
    },
    {
      "cell_type": "code",
      "metadata": {
        "id": "Ghn3LqIgWKU7"
      },
      "source": [
        "new_df = new_df.fillna(\"unknown\")"
      ],
      "execution_count": 741,
      "outputs": []
    },
    {
      "cell_type": "code",
      "metadata": {
        "colab": {
          "base_uri": "https://localhost:8080/"
        },
        "id": "JP4_FesQWvIy",
        "outputId": "d193ead1-511b-4ca1-c258-c6596fffbc7e"
      },
      "source": [
        "new_df.isnull().sum()"
      ],
      "execution_count": 742,
      "outputs": [
        {
          "output_type": "execute_result",
          "data": {
            "text/plain": [
              "Name_ID     0\n",
              "mainsnak    0\n",
              "brand       0\n",
              "TEXT        0\n",
              "dtype: int64"
            ]
          },
          "metadata": {
            "tags": []
          },
          "execution_count": 742
        }
      ]
    },
    {
      "cell_type": "code",
      "metadata": {
        "colab": {
          "base_uri": "https://localhost:8080/",
          "height": 206
        },
        "id": "qfkmc_lyWyKA",
        "outputId": "4bb39895-eaf6-4cb8-a079-14d6561070b0"
      },
      "source": [
        "new_df.head()"
      ],
      "execution_count": 743,
      "outputs": [
        {
          "output_type": "execute_result",
          "data": {
            "text/html": [
              "<div>\n",
              "<style scoped>\n",
              "    .dataframe tbody tr th:only-of-type {\n",
              "        vertical-align: middle;\n",
              "    }\n",
              "\n",
              "    .dataframe tbody tr th {\n",
              "        vertical-align: top;\n",
              "    }\n",
              "\n",
              "    .dataframe thead th {\n",
              "        text-align: right;\n",
              "    }\n",
              "</style>\n",
              "<table border=\"1\" class=\"dataframe\">\n",
              "  <thead>\n",
              "    <tr style=\"text-align: right;\">\n",
              "      <th></th>\n",
              "      <th>Name_ID</th>\n",
              "      <th>mainsnak</th>\n",
              "      <th>brand</th>\n",
              "      <th>TEXT</th>\n",
              "    </tr>\n",
              "  </thead>\n",
              "  <tbody>\n",
              "    <tr>\n",
              "      <th>0</th>\n",
              "      <td>Alisha Solid Womens Cycling Shorts</td>\n",
              "      <td>Clothing</td>\n",
              "      <td>Alisha</td>\n",
              "      <td>[[Key, Features, of, Alisha, Solid, Womens, Cy...</td>\n",
              "    </tr>\n",
              "    <tr>\n",
              "      <th>1</th>\n",
              "      <td>FabHomeDecor Fabric Double Sofa Bed</td>\n",
              "      <td>Furniture</td>\n",
              "      <td>FabHomeDecor</td>\n",
              "      <td>[[FabHomeDecor, Fabric, Double, Sofa, Bed, (, ...</td>\n",
              "    </tr>\n",
              "    <tr>\n",
              "      <th>2</th>\n",
              "      <td>AW Bellies</td>\n",
              "      <td>Footwear</td>\n",
              "      <td>AW</td>\n",
              "      <td>[[Key, Features, of, AW, Bellies, Sandals, Wed...</td>\n",
              "    </tr>\n",
              "    <tr>\n",
              "      <th>3</th>\n",
              "      <td>Alisha Solid Womens Cycling Shorts</td>\n",
              "      <td>Clothing</td>\n",
              "      <td>Alisha</td>\n",
              "      <td>[[Key, Features, of, Alisha, Solid, Womens, Cy...</td>\n",
              "    </tr>\n",
              "    <tr>\n",
              "      <th>4</th>\n",
              "      <td>Sicons All Purpose Arnica Dog Shampoo</td>\n",
              "      <td>Pet Supplies</td>\n",
              "      <td>Sicons</td>\n",
              "      <td>[[Specifications, of, Sicons, All, Purpose, Ar...</td>\n",
              "    </tr>\n",
              "  </tbody>\n",
              "</table>\n",
              "</div>"
            ],
            "text/plain": [
              "                                 Name_ID  ...                                               TEXT\n",
              "0     Alisha Solid Womens Cycling Shorts  ...  [[Key, Features, of, Alisha, Solid, Womens, Cy...\n",
              "1    FabHomeDecor Fabric Double Sofa Bed  ...  [[FabHomeDecor, Fabric, Double, Sofa, Bed, (, ...\n",
              "2                             AW Bellies  ...  [[Key, Features, of, AW, Bellies, Sandals, Wed...\n",
              "3     Alisha Solid Womens Cycling Shorts  ...  [[Key, Features, of, Alisha, Solid, Womens, Cy...\n",
              "4  Sicons All Purpose Arnica Dog Shampoo  ...  [[Specifications, of, Sicons, All, Purpose, Ar...\n",
              "\n",
              "[5 rows x 4 columns]"
            ]
          },
          "metadata": {
            "tags": []
          },
          "execution_count": 743
        }
      ]
    },
    {
      "cell_type": "code",
      "metadata": {
        "id": "NhRgyVUWAj-F"
      },
      "source": [
        "# now let's finally clean mainsnak and brand columns by removing any commas aphostrophes occuring in the sting\r\n"
      ],
      "execution_count": 744,
      "outputs": []
    },
    {
      "cell_type": "code",
      "metadata": {
        "id": "2UUa-G88cLj8"
      },
      "source": [
        "sample_df = new_df[:20]"
      ],
      "execution_count": 745,
      "outputs": []
    },
    {
      "cell_type": "code",
      "metadata": {
        "id": "k0go8nf5GZzf"
      },
      "source": [
        "# create a function to create a datastructure similar to wikidataset and get all the dict entries into a list.\r\n",
        "\r\n",
        "def data_preparation(df):\r\n",
        "  # word_dict = {}\r\n",
        "  data_list = []\r\n",
        "  for index, row in df.iterrows():\r\n",
        "    #text = [item for entry in row['TEXT'] for item in entry if item!=\"\"]\r\n",
        "    word_dict = {\"Name_ID\": row[\"Name_ID\"], \"taxon rank\": [{\"mainsnak\": \"Product\"}],\r\n",
        "                \"parent taxon\": [{\"mainsnak\": row[\"brand\"]}], \"instance of\": [{\"mainsnak\": row['mainsnak']}], \r\n",
        "                \"TEXT\": row['TEXT']}\r\n",
        "    data_list.append(word_dict.copy())\r\n",
        "  return data_list\r\n",
        "    "
      ],
      "execution_count": 746,
      "outputs": []
    },
    {
      "cell_type": "code",
      "metadata": {
        "id": "rlA3b5f5cDG8"
      },
      "source": [
        "data_list_sample = data_preparation(sample_df)"
      ],
      "execution_count": 747,
      "outputs": []
    },
    {
      "cell_type": "code",
      "metadata": {
        "id": "DrcTUqnxGZnP"
      },
      "source": [
        "data_list = data_preparation(new_df)\r\n",
        "# final_list = \"\\n\".join(data_list)\r\n"
      ],
      "execution_count": 748,
      "outputs": []
    },
    {
      "cell_type": "code",
      "metadata": {
        "id": "qosE3XGxcWYy"
      },
      "source": [
        "# create a file name called new_df.json and write the data.\r\n",
        "import json\r\n",
        "with open(\"/content/drive/MyDrive/datasets/sample_df.json\", \"w\") as f:\r\n",
        "  for item in data_list_sample:\r\n",
        "    f.write(json.dumps(item))\r\n",
        "    f.write(\"\\n\")"
      ],
      "execution_count": 749,
      "outputs": []
    },
    {
      "cell_type": "code",
      "metadata": {
        "id": "Vj5h99Ziaofm"
      },
      "source": [
        "# create a file name called new_df.json and write the data.\r\n",
        "import json\r\n",
        "with open(\"/content/drive/MyDrive/datasets/new_df.json\", \"w\") as f:\r\n",
        "  for item in data_list:\r\n",
        "    f.write(json.dumps(item))\r\n",
        "    f.write(\"\\n\")"
      ],
      "execution_count": 750,
      "outputs": []
    },
    {
      "cell_type": "code",
      "metadata": {
        "id": "8rZ-dQ8gaocn"
      },
      "source": [
        ""
      ],
      "execution_count": 750,
      "outputs": []
    },
    {
      "cell_type": "code",
      "metadata": {
        "id": "iq4h209YaoZj"
      },
      "source": [
        ""
      ],
      "execution_count": 750,
      "outputs": []
    },
    {
      "cell_type": "code",
      "metadata": {
        "id": "YdmxtLAYGZMd"
      },
      "source": [
        ""
      ],
      "execution_count": 750,
      "outputs": []
    }
  ]
}