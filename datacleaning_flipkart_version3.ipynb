{
  "nbformat": 4,
  "nbformat_minor": 0,
  "metadata": {
    "colab": {
      "name": "datacleaning_flipkart.ipynb",
      "provenance": [],
      "collapsed_sections": [],
      "authorship_tag": "ABX9TyPgUKPnGF/GtKjiu1Pu71Yb",
      "include_colab_link": true
    },
    "kernelspec": {
      "name": "python3",
      "display_name": "Python 3"
    }
  },
  "cells": [
    {
      "cell_type": "markdown",
      "metadata": {
        "id": "view-in-github",
        "colab_type": "text"
      },
      "source": [
        "<a href=\"https://colab.research.google.com/github/priya170807/text_analysis/blob/master/datacleaning_flipkart_version3.ipynb\" target=\"_parent\"><img src=\"https://colab.research.google.com/assets/colab-badge.svg\" alt=\"Open In Colab\"/></a>"
      ]
    },
    {
      "cell_type": "code",
      "metadata": {
        "colab": {
          "base_uri": "https://localhost:8080/"
        },
        "id": "4jqzbWqY_311",
        "outputId": "950ead78-3d00-4022-9817-1da185ad563d"
      },
      "source": [
        "from google.colab import drive\r\n",
        "drive.mount('/content/drive')"
      ],
      "execution_count": 1,
      "outputs": [
        {
          "output_type": "stream",
          "text": [
            "Mounted at /content/drive\n"
          ],
          "name": "stdout"
        }
      ]
    },
    {
      "cell_type": "code",
      "metadata": {
        "id": "QFh9EWI6BJj_"
      },
      "source": [
        "import re\r\n",
        "import sys\r\n",
        "import pickle\r\n",
        "import pandas as pd\r\n",
        "import numpy as np\r\n",
        "from collections import Counter"
      ],
      "execution_count": 2,
      "outputs": []
    },
    {
      "cell_type": "code",
      "metadata": {
        "id": "Zfa2bGC2BVLM"
      },
      "source": [
        "df = pd.read_csv(\"/content/drive/MyDrive/datasets/flipkart_com-ecommerce_sample.csv\")"
      ],
      "execution_count": 3,
      "outputs": []
    },
    {
      "cell_type": "code",
      "metadata": {
        "colab": {
          "base_uri": "https://localhost:8080/",
          "height": 487
        },
        "id": "za1_6ExjBfjx",
        "outputId": "60d45ade-88f7-4136-b297-7685b8606881"
      },
      "source": [
        "df.head()"
      ],
      "execution_count": 4,
      "outputs": [
        {
          "output_type": "execute_result",
          "data": {
            "text/html": [
              "<div>\n",
              "<style scoped>\n",
              "    .dataframe tbody tr th:only-of-type {\n",
              "        vertical-align: middle;\n",
              "    }\n",
              "\n",
              "    .dataframe tbody tr th {\n",
              "        vertical-align: top;\n",
              "    }\n",
              "\n",
              "    .dataframe thead th {\n",
              "        text-align: right;\n",
              "    }\n",
              "</style>\n",
              "<table border=\"1\" class=\"dataframe\">\n",
              "  <thead>\n",
              "    <tr style=\"text-align: right;\">\n",
              "      <th></th>\n",
              "      <th>uniq_id</th>\n",
              "      <th>crawl_timestamp</th>\n",
              "      <th>product_url</th>\n",
              "      <th>product_name</th>\n",
              "      <th>product_category_tree</th>\n",
              "      <th>pid</th>\n",
              "      <th>retail_price</th>\n",
              "      <th>discounted_price</th>\n",
              "      <th>image</th>\n",
              "      <th>is_FK_Advantage_product</th>\n",
              "      <th>description</th>\n",
              "      <th>product_rating</th>\n",
              "      <th>overall_rating</th>\n",
              "      <th>brand</th>\n",
              "      <th>product_specifications</th>\n",
              "    </tr>\n",
              "  </thead>\n",
              "  <tbody>\n",
              "    <tr>\n",
              "      <th>0</th>\n",
              "      <td>c2d766ca982eca8304150849735ffef9</td>\n",
              "      <td>2016-03-25 22:59:23 +0000</td>\n",
              "      <td>http://www.flipkart.com/alisha-solid-women-s-c...</td>\n",
              "      <td>Alisha Solid Women's Cycling Shorts</td>\n",
              "      <td>[\"Clothing &gt;&gt; Women's Clothing &gt;&gt; Lingerie, Sl...</td>\n",
              "      <td>SRTEH2FF9KEDEFGF</td>\n",
              "      <td>999.0</td>\n",
              "      <td>379.0</td>\n",
              "      <td>[\"http://img5a.flixcart.com/image/short/u/4/a/...</td>\n",
              "      <td>False</td>\n",
              "      <td>Key Features of Alisha Solid Women's Cycling S...</td>\n",
              "      <td>No rating available</td>\n",
              "      <td>No rating available</td>\n",
              "      <td>Alisha</td>\n",
              "      <td>{\"product_specification\"=&gt;[{\"key\"=&gt;\"Number of ...</td>\n",
              "    </tr>\n",
              "    <tr>\n",
              "      <th>1</th>\n",
              "      <td>7f7036a6d550aaa89d34c77bd39a5e48</td>\n",
              "      <td>2016-03-25 22:59:23 +0000</td>\n",
              "      <td>http://www.flipkart.com/fabhomedecor-fabric-do...</td>\n",
              "      <td>FabHomeDecor Fabric Double Sofa Bed</td>\n",
              "      <td>[\"Furniture &gt;&gt; Living Room Furniture &gt;&gt; Sofa B...</td>\n",
              "      <td>SBEEH3QGU7MFYJFY</td>\n",
              "      <td>32157.0</td>\n",
              "      <td>22646.0</td>\n",
              "      <td>[\"http://img6a.flixcart.com/image/sofa-bed/j/f...</td>\n",
              "      <td>False</td>\n",
              "      <td>FabHomeDecor Fabric Double Sofa Bed (Finish Co...</td>\n",
              "      <td>No rating available</td>\n",
              "      <td>No rating available</td>\n",
              "      <td>FabHomeDecor</td>\n",
              "      <td>{\"product_specification\"=&gt;[{\"key\"=&gt;\"Installati...</td>\n",
              "    </tr>\n",
              "    <tr>\n",
              "      <th>2</th>\n",
              "      <td>f449ec65dcbc041b6ae5e6a32717d01b</td>\n",
              "      <td>2016-03-25 22:59:23 +0000</td>\n",
              "      <td>http://www.flipkart.com/aw-bellies/p/itmeh4grg...</td>\n",
              "      <td>AW Bellies</td>\n",
              "      <td>[\"Footwear &gt;&gt; Women's Footwear &gt;&gt; Ballerinas &gt;...</td>\n",
              "      <td>SHOEH4GRSUBJGZXE</td>\n",
              "      <td>999.0</td>\n",
              "      <td>499.0</td>\n",
              "      <td>[\"http://img5a.flixcart.com/image/shoe/7/z/z/r...</td>\n",
              "      <td>False</td>\n",
              "      <td>Key Features of AW Bellies Sandals Wedges Heel...</td>\n",
              "      <td>No rating available</td>\n",
              "      <td>No rating available</td>\n",
              "      <td>AW</td>\n",
              "      <td>{\"product_specification\"=&gt;[{\"key\"=&gt;\"Ideal For\"...</td>\n",
              "    </tr>\n",
              "    <tr>\n",
              "      <th>3</th>\n",
              "      <td>0973b37acd0c664e3de26e97e5571454</td>\n",
              "      <td>2016-03-25 22:59:23 +0000</td>\n",
              "      <td>http://www.flipkart.com/alisha-solid-women-s-c...</td>\n",
              "      <td>Alisha Solid Women's Cycling Shorts</td>\n",
              "      <td>[\"Clothing &gt;&gt; Women's Clothing &gt;&gt; Lingerie, Sl...</td>\n",
              "      <td>SRTEH2F6HUZMQ6SJ</td>\n",
              "      <td>699.0</td>\n",
              "      <td>267.0</td>\n",
              "      <td>[\"http://img5a.flixcart.com/image/short/6/2/h/...</td>\n",
              "      <td>False</td>\n",
              "      <td>Key Features of Alisha Solid Women's Cycling S...</td>\n",
              "      <td>No rating available</td>\n",
              "      <td>No rating available</td>\n",
              "      <td>Alisha</td>\n",
              "      <td>{\"product_specification\"=&gt;[{\"key\"=&gt;\"Number of ...</td>\n",
              "    </tr>\n",
              "    <tr>\n",
              "      <th>4</th>\n",
              "      <td>bc940ea42ee6bef5ac7cea3fb5cfbee7</td>\n",
              "      <td>2016-03-25 22:59:23 +0000</td>\n",
              "      <td>http://www.flipkart.com/sicons-all-purpose-arn...</td>\n",
              "      <td>Sicons All Purpose Arnica Dog Shampoo</td>\n",
              "      <td>[\"Pet Supplies &gt;&gt; Grooming &gt;&gt; Skin &amp; Coat Care...</td>\n",
              "      <td>PSOEH3ZYDMSYARJ5</td>\n",
              "      <td>220.0</td>\n",
              "      <td>210.0</td>\n",
              "      <td>[\"http://img5a.flixcart.com/image/pet-shampoo/...</td>\n",
              "      <td>False</td>\n",
              "      <td>Specifications of Sicons All Purpose Arnica Do...</td>\n",
              "      <td>No rating available</td>\n",
              "      <td>No rating available</td>\n",
              "      <td>Sicons</td>\n",
              "      <td>{\"product_specification\"=&gt;[{\"key\"=&gt;\"Pet Type\",...</td>\n",
              "    </tr>\n",
              "  </tbody>\n",
              "</table>\n",
              "</div>"
            ],
            "text/plain": [
              "                            uniq_id  ...                             product_specifications\n",
              "0  c2d766ca982eca8304150849735ffef9  ...  {\"product_specification\"=>[{\"key\"=>\"Number of ...\n",
              "1  7f7036a6d550aaa89d34c77bd39a5e48  ...  {\"product_specification\"=>[{\"key\"=>\"Installati...\n",
              "2  f449ec65dcbc041b6ae5e6a32717d01b  ...  {\"product_specification\"=>[{\"key\"=>\"Ideal For\"...\n",
              "3  0973b37acd0c664e3de26e97e5571454  ...  {\"product_specification\"=>[{\"key\"=>\"Number of ...\n",
              "4  bc940ea42ee6bef5ac7cea3fb5cfbee7  ...  {\"product_specification\"=>[{\"key\"=>\"Pet Type\",...\n",
              "\n",
              "[5 rows x 15 columns]"
            ]
          },
          "metadata": {
            "tags": []
          },
          "execution_count": 4
        }
      ]
    },
    {
      "cell_type": "code",
      "metadata": {
        "colab": {
          "base_uri": "https://localhost:8080/",
          "height": 36
        },
        "id": "L-RSrBQPBi43",
        "outputId": "6df1324c-117f-4443-dd00-b0802c7e901d"
      },
      "source": [
        "df[\"product_category_tree\"][0]"
      ],
      "execution_count": 5,
      "outputs": [
        {
          "output_type": "execute_result",
          "data": {
            "application/vnd.google.colaboratory.intrinsic+json": {
              "type": "string"
            },
            "text/plain": [
              "'[\"Clothing >> Women\\'s Clothing >> Lingerie, Sleep & Swimwear >> Shorts >> Alisha Shorts >> Alisha Solid Women\\'s Cycling Shorts\"]'"
            ]
          },
          "metadata": {
            "tags": []
          },
          "execution_count": 5
        }
      ]
    },
    {
      "cell_type": "code",
      "metadata": {
        "id": "KDb_F2qVB1Y9"
      },
      "source": [
        "useful_data = df[[\"product_name\",\"product_category_tree\", \"description\", \"brand\"]]"
      ],
      "execution_count": 6,
      "outputs": []
    },
    {
      "cell_type": "code",
      "metadata": {
        "colab": {
          "base_uri": "https://localhost:8080/",
          "height": 206
        },
        "id": "r_TyK_jtB640",
        "outputId": "35c4fbf5-9d4d-439d-c081-06a3a14561b4"
      },
      "source": [
        "useful_data.head()"
      ],
      "execution_count": 7,
      "outputs": [
        {
          "output_type": "execute_result",
          "data": {
            "text/html": [
              "<div>\n",
              "<style scoped>\n",
              "    .dataframe tbody tr th:only-of-type {\n",
              "        vertical-align: middle;\n",
              "    }\n",
              "\n",
              "    .dataframe tbody tr th {\n",
              "        vertical-align: top;\n",
              "    }\n",
              "\n",
              "    .dataframe thead th {\n",
              "        text-align: right;\n",
              "    }\n",
              "</style>\n",
              "<table border=\"1\" class=\"dataframe\">\n",
              "  <thead>\n",
              "    <tr style=\"text-align: right;\">\n",
              "      <th></th>\n",
              "      <th>product_name</th>\n",
              "      <th>product_category_tree</th>\n",
              "      <th>description</th>\n",
              "      <th>brand</th>\n",
              "    </tr>\n",
              "  </thead>\n",
              "  <tbody>\n",
              "    <tr>\n",
              "      <th>0</th>\n",
              "      <td>Alisha Solid Women's Cycling Shorts</td>\n",
              "      <td>[\"Clothing &gt;&gt; Women's Clothing &gt;&gt; Lingerie, Sl...</td>\n",
              "      <td>Key Features of Alisha Solid Women's Cycling S...</td>\n",
              "      <td>Alisha</td>\n",
              "    </tr>\n",
              "    <tr>\n",
              "      <th>1</th>\n",
              "      <td>FabHomeDecor Fabric Double Sofa Bed</td>\n",
              "      <td>[\"Furniture &gt;&gt; Living Room Furniture &gt;&gt; Sofa B...</td>\n",
              "      <td>FabHomeDecor Fabric Double Sofa Bed (Finish Co...</td>\n",
              "      <td>FabHomeDecor</td>\n",
              "    </tr>\n",
              "    <tr>\n",
              "      <th>2</th>\n",
              "      <td>AW Bellies</td>\n",
              "      <td>[\"Footwear &gt;&gt; Women's Footwear &gt;&gt; Ballerinas &gt;...</td>\n",
              "      <td>Key Features of AW Bellies Sandals Wedges Heel...</td>\n",
              "      <td>AW</td>\n",
              "    </tr>\n",
              "    <tr>\n",
              "      <th>3</th>\n",
              "      <td>Alisha Solid Women's Cycling Shorts</td>\n",
              "      <td>[\"Clothing &gt;&gt; Women's Clothing &gt;&gt; Lingerie, Sl...</td>\n",
              "      <td>Key Features of Alisha Solid Women's Cycling S...</td>\n",
              "      <td>Alisha</td>\n",
              "    </tr>\n",
              "    <tr>\n",
              "      <th>4</th>\n",
              "      <td>Sicons All Purpose Arnica Dog Shampoo</td>\n",
              "      <td>[\"Pet Supplies &gt;&gt; Grooming &gt;&gt; Skin &amp; Coat Care...</td>\n",
              "      <td>Specifications of Sicons All Purpose Arnica Do...</td>\n",
              "      <td>Sicons</td>\n",
              "    </tr>\n",
              "  </tbody>\n",
              "</table>\n",
              "</div>"
            ],
            "text/plain": [
              "                            product_name  ...         brand\n",
              "0    Alisha Solid Women's Cycling Shorts  ...        Alisha\n",
              "1    FabHomeDecor Fabric Double Sofa Bed  ...  FabHomeDecor\n",
              "2                             AW Bellies  ...            AW\n",
              "3    Alisha Solid Women's Cycling Shorts  ...        Alisha\n",
              "4  Sicons All Purpose Arnica Dog Shampoo  ...        Sicons\n",
              "\n",
              "[5 rows x 4 columns]"
            ]
          },
          "metadata": {
            "tags": []
          },
          "execution_count": 7
        }
      ]
    },
    {
      "cell_type": "code",
      "metadata": {
        "colab": {
          "base_uri": "https://localhost:8080/"
        },
        "id": "Nj8KCvptB72m",
        "outputId": "e73dbe4b-702e-4198-999f-94f1692c54ab"
      },
      "source": [
        "len(useful_data)"
      ],
      "execution_count": 8,
      "outputs": [
        {
          "output_type": "execute_result",
          "data": {
            "text/plain": [
              "20000"
            ]
          },
          "metadata": {
            "tags": []
          },
          "execution_count": 8
        }
      ]
    },
    {
      "cell_type": "code",
      "metadata": {
        "id": "GHQXk7S_B7o3"
      },
      "source": [
        "data = useful_data.copy()"
      ],
      "execution_count": 9,
      "outputs": []
    },
    {
      "cell_type": "code",
      "metadata": {
        "colab": {
          "base_uri": "https://localhost:8080/",
          "height": 164
        },
        "id": "MAy_rT_OB7ca",
        "outputId": "b8bc73cd-fc6b-484f-ae53-34af56cee183"
      },
      "source": [
        "data[\"description\"][1]"
      ],
      "execution_count": 10,
      "outputs": [
        {
          "output_type": "execute_result",
          "data": {
            "application/vnd.google.colaboratory.intrinsic+json": {
              "type": "string"
            },
            "text/plain": [
              "\"FabHomeDecor Fabric Double Sofa Bed (Finish Color - Leatherette Black Mechanism Type - Pull Out) Price: Rs. 22,646 • Fine deep seating experience • Save Space with the all new click clack Sofa Bed • Easy to fold and vice versa with simple click clack mechanism • Chrome legs with mango wood frame for long term durability • Double cushioned Sofa Bed to provide you with extra softness to make a fine seating experience • A double bed that can easily sleep two,Specifications of FabHomeDecor Fabric Double Sofa Bed (Finish Color - Leatherette Black Mechanism Type - Pull Out) Installation & Demo Installation & Demo Details Installation and demo for this product is done free of cost as part of this purchase. Our service partner will visit your location within 72 business hours from the delivery of the product. In The Box 1 Sofa Bed General Brand FabHomeDecor Mattress Included No Delivery Condition Knock Down Storage Included No Mechanism Type Pull Out Type Sofa Bed Style Contemporary & Modern Filling Material Microfiber Seating Capacity 3 Seater Upholstery Type NA Upholstery Included No Bed Size Double Shape Square Suitable For Living Room Model Number FHD112 Care Instructions Avoid outdoor use and exposure to water or prolonged moisture, Avoid exposure to direct heat or sunlight as this can cause the sofa colour to fade, Keep sharp objects away from your sofa, A little tear on the fabric cover may be hard to repair, Vacuum your sofas periodically with a soft bristled bru...View More Avoid outdoor use and exposure to water or prolonged moisture, Avoid exposure to direct heat or sunlight as this can cause the sofa colour to fade, Keep sharp objects away from your sofa, A little tear on the fabric cover may be hard to repair, Vacuum your sofas periodically with a soft bristled brush attachment or lightly brush them to keep general dirt and dust off the sofa and prevent any embedding between the fibres, Try to avoid food and drink spillage of any kind, If spills occur, do not leave unattended, In case of a stain, a water-free fabric cleaner can be used, However, avoid applying the cleaner directly on the stain as this can cause damage to the fabric and fade colour, Pour the cleaner onto a clean cloth and test its effect on a hidden area of the sofa before cleaning the stain with the cloth, A professional scotchguard treatment is one of the easiest and most effective options to protect against spills or stains and keep pet hair at bay, Getting your sofa professionally cleaned once every 6-8 months will not only take care of the nooks and corners that you can't reach, it will also make it more durable Finish Type Matte Important Note Cancellation NOT allowed for this product after 24 hrs of order booking. Warranty Covered in Warranty Warranty covers all kind of manufacturing defects. Concerned product will either be repaired or replaced based on discretion. Service Type Manufacturer Warranty Warranty Summary 6 Months Domestic Warranty Not Covered in Warranty Warranty does not cover for Improper Handling Dimensions Weight 40 kg Height 838 mm Width 1905 mm Depth 939 mm Disclaimer - The color of the product may vary slightly compared to the picture displayed on your screen. This is due to lighting, pixel quality and color settings - Please check the product's dimensions to ensure the product will fit in the desired location. Also, check if the product will fit through...View More - The color of the product may vary slightly compared to the picture displayed on your screen. This is due to lighting, pixel quality and color settings - Please check the product's dimensions to ensure the product will fit in the desired location. Also, check if the product will fit through the entrance(s) and door(s) of the premises - Please expect an unevenness of up to 5 mm in the product due to differences in surfaces and floor levels - Flipkart, or the Seller delivering the product, will not take up any type of civil work, such as drilling holes in the wall to mount the product. The product will only be assembled in case carpentry assembly is required - In case the product appears to lack shine, wiping the surface with a cloth will help clear the surface of dust particles Material & Color Upholstery Color Leatherette Black Primary Color Black Primary Material Fabric Secondary Material Subtype Mango Wood Secondary Material Foam Finish Color Leatherette Black Primary Material Subtype Foam\""
            ]
          },
          "metadata": {
            "tags": []
          },
          "execution_count": 10
        }
      ]
    },
    {
      "cell_type": "code",
      "metadata": {
        "id": "ISlg2dWDC3Rb"
      },
      "source": [
        "data[\"new_desc\"] = data[\"description\"]"
      ],
      "execution_count": 11,
      "outputs": []
    },
    {
      "cell_type": "code",
      "metadata": {
        "id": "j5B3ZMGzDaMH"
      },
      "source": [
        "data[\"new_desc\"] = data[\"new_desc\"].str.replace(r'Rs.', '',regex=True)"
      ],
      "execution_count": 12,
      "outputs": []
    },
    {
      "cell_type": "code",
      "metadata": {
        "colab": {
          "base_uri": "https://localhost:8080/",
          "height": 164
        },
        "id": "InAglvQdDaJq",
        "outputId": "68281f13-be87-4fc8-86e0-5c7e00b79c3f"
      },
      "source": [
        "data[\"new_desc\"][1]"
      ],
      "execution_count": 13,
      "outputs": [
        {
          "output_type": "execute_result",
          "data": {
            "application/vnd.google.colaboratory.intrinsic+json": {
              "type": "string"
            },
            "text/plain": [
              "\"FabHomeDecor Fabric Double Sofa Bed (Finish Color - Leatherette Black Mechanism Type - Pull Out) Price:  22,646 • Fine deep seating experience • Save Space with the all new click clack Sofa Bed • Easy to fold and vice versa with simple click clack mechanism • Chrome legs with mango wood frame for long term durability • Double cushioned Sofa Bed to provide you with extra softness to make a fine seating experience • A double bed that can easily sleep two,Specifications of FabHomeDecor Fabric Double Sofa Bed (Finish Color - Leatherette Black Mechanism Type - Pull Out) Installation & Demo Installation & Demo Details Installation and demo for this product is done free of cost as part of this purchase. Our service partner will visit your location within 72 business hours from the delivery of the product. In The Box 1 Sofa Bed General Brand FabHomeDecor Mattress Included No Delivery Condition Knock Down Storage Included No Mechanism Type Pull Out Type Sofa Bed Style Contemporary & Modern Filling Material Microfiber Seating Capacity 3 Seater Upholstery Type NA Upholstery Included No Bed Size Double Shape Square Suitable For Living Room Model Number FHD112 Care Instructions Avoid outdoor use and exposure to water or prolonged moisture, Avoid exposure to direct heat or sunlight as this can cause the sofa colour to fade, Keep sharp objects away from your sofa, A little tear on the fabric cover may be hard to repair, Vacuum your sofas periodically with a soft bristled bru...View More Avoid outdoor use and exposure to water or prolonged moisture, Avoid exposure to direct heat or sunlight as this can cause the sofa colour to fade, Keep sharp objects away from your sofa, A little tear on the fabric cover may be hard to repair, Vacuum your sofas periodically with a soft bristled brush attachment or lightly brush them to keep general dirt and dust off the sofa and prevent any embedding between the fibres, Try to avoid food and drink spillage of any kind, If spills occur, do not leave unattended, In case of a stain, a water-free fabric cleaner can be used, However, avoid applying the cleaner directly on the stain as this can cause damage to the fabric and fade colour, Pour the cleaner onto a clean cloth and test its effect on a hidden area of the sofa before cleaning the stain with the cloth, A professional scotchguard treatment is one of the easiest and most effective options to protect against spills or stains and keep pet hair at bay, Getting your sofa professionally cleaned once every 6-8 months will not only take care of the nooks and corners that you can't reach, it will also make it more durable Finish Type Matte Important Note Cancellation NOT allowed for this product after 24 hrs of order booking. Warranty Covered in Warranty Warranty covers all kind of manufacturing defects. Concerned product will either be repaired or replaced based on discretion. Service Type Manufacturer Warranty Warranty Summary 6 Months Domestic Warranty Not Covered in Warranty Warranty does not cover for Improper Handling Dimensions Weight 40 kg Height 838 mm Width 1905 mm Depth 939 mm Disclaimer - The color of the product may vary slightly compared to the picture displayed on your screen. This is due to lighting, pixel quality and color settings - Please check the product's dimensions to ensure the product will fit in the desired location. Also, check if the product will fit through...View More - The color of the product may vary slightly compared to the picture displayed on your screen. This is due to lighting, pixel quality and color settings - Please check the product's dimensions to ensure the product will fit in the desired location. Also, check if the product will fit through the entrance(s) and door(s) of the premises - Please expect an unevenness of up to 5 mm in the product due to differences in surfaces and floor levels - Flipkart, or the Seller delivering the product, will not take up any type of civil work, such as drilling holes in the wall to mount the product. The product will only be assembled in case carpentry assembly is required - In case the product appears to lack shine, wiping the surface with a cloth will help clear the surface of dust particles Material & Color Upholstery Color Leatherette Black Primary Color Black Primary Material Fabric Secondary Material Subtype Mango Wood Secondary Material Foam Finish Color Leatherette Black Primary Material Subtype Foam\""
            ]
          },
          "metadata": {
            "tags": []
          },
          "execution_count": 13
        }
      ]
    },
    {
      "cell_type": "code",
      "metadata": {
        "id": "RfZzVpoCDaGT"
      },
      "source": [
        "data[\"new_desc\"] = data[\"new_desc\"].str.replace(r'\\u2022+?',r'.',regex=True)"
      ],
      "execution_count": 14,
      "outputs": []
    },
    {
      "cell_type": "code",
      "metadata": {
        "id": "DQrqYjCbDaD_"
      },
      "source": [
        "data[\"new_desc\"] = data[\"new_desc\"].str.replace(r'(?<=\\d),(?=\\d)', r'',regex=True)"
      ],
      "execution_count": 15,
      "outputs": []
    },
    {
      "cell_type": "code",
      "metadata": {
        "colab": {
          "base_uri": "https://localhost:8080/",
          "height": 164
        },
        "id": "imYB8bCJDaAo",
        "outputId": "30950db3-4a5e-4080-fedd-c1fc25122763"
      },
      "source": [
        "data[\"new_desc\"][1]"
      ],
      "execution_count": 16,
      "outputs": [
        {
          "output_type": "execute_result",
          "data": {
            "application/vnd.google.colaboratory.intrinsic+json": {
              "type": "string"
            },
            "text/plain": [
              "\"FabHomeDecor Fabric Double Sofa Bed (Finish Color - Leatherette Black Mechanism Type - Pull Out) Price:  22646 . Fine deep seating experience . Save Space with the all new click clack Sofa Bed . Easy to fold and vice versa with simple click clack mechanism . Chrome legs with mango wood frame for long term durability . Double cushioned Sofa Bed to provide you with extra softness to make a fine seating experience . A double bed that can easily sleep two,Specifications of FabHomeDecor Fabric Double Sofa Bed (Finish Color - Leatherette Black Mechanism Type - Pull Out) Installation & Demo Installation & Demo Details Installation and demo for this product is done free of cost as part of this purchase. Our service partner will visit your location within 72 business hours from the delivery of the product. In The Box 1 Sofa Bed General Brand FabHomeDecor Mattress Included No Delivery Condition Knock Down Storage Included No Mechanism Type Pull Out Type Sofa Bed Style Contemporary & Modern Filling Material Microfiber Seating Capacity 3 Seater Upholstery Type NA Upholstery Included No Bed Size Double Shape Square Suitable For Living Room Model Number FHD112 Care Instructions Avoid outdoor use and exposure to water or prolonged moisture, Avoid exposure to direct heat or sunlight as this can cause the sofa colour to fade, Keep sharp objects away from your sofa, A little tear on the fabric cover may be hard to repair, Vacuum your sofas periodically with a soft bristled bru...View More Avoid outdoor use and exposure to water or prolonged moisture, Avoid exposure to direct heat or sunlight as this can cause the sofa colour to fade, Keep sharp objects away from your sofa, A little tear on the fabric cover may be hard to repair, Vacuum your sofas periodically with a soft bristled brush attachment or lightly brush them to keep general dirt and dust off the sofa and prevent any embedding between the fibres, Try to avoid food and drink spillage of any kind, If spills occur, do not leave unattended, In case of a stain, a water-free fabric cleaner can be used, However, avoid applying the cleaner directly on the stain as this can cause damage to the fabric and fade colour, Pour the cleaner onto a clean cloth and test its effect on a hidden area of the sofa before cleaning the stain with the cloth, A professional scotchguard treatment is one of the easiest and most effective options to protect against spills or stains and keep pet hair at bay, Getting your sofa professionally cleaned once every 6-8 months will not only take care of the nooks and corners that you can't reach, it will also make it more durable Finish Type Matte Important Note Cancellation NOT allowed for this product after 24 hrs of order booking. Warranty Covered in Warranty Warranty covers all kind of manufacturing defects. Concerned product will either be repaired or replaced based on discretion. Service Type Manufacturer Warranty Warranty Summary 6 Months Domestic Warranty Not Covered in Warranty Warranty does not cover for Improper Handling Dimensions Weight 40 kg Height 838 mm Width 1905 mm Depth 939 mm Disclaimer - The color of the product may vary slightly compared to the picture displayed on your screen. This is due to lighting, pixel quality and color settings - Please check the product's dimensions to ensure the product will fit in the desired location. Also, check if the product will fit through...View More - The color of the product may vary slightly compared to the picture displayed on your screen. This is due to lighting, pixel quality and color settings - Please check the product's dimensions to ensure the product will fit in the desired location. Also, check if the product will fit through the entrance(s) and door(s) of the premises - Please expect an unevenness of up to 5 mm in the product due to differences in surfaces and floor levels - Flipkart, or the Seller delivering the product, will not take up any type of civil work, such as drilling holes in the wall to mount the product. The product will only be assembled in case carpentry assembly is required - In case the product appears to lack shine, wiping the surface with a cloth will help clear the surface of dust particles Material & Color Upholstery Color Leatherette Black Primary Color Black Primary Material Fabric Secondary Material Subtype Mango Wood Secondary Material Foam Finish Color Leatherette Black Primary Material Subtype Foam\""
            ]
          },
          "metadata": {
            "tags": []
          },
          "execution_count": 16
        }
      ]
    },
    {
      "cell_type": "code",
      "metadata": {
        "id": "wr0v64IDDZ-s"
      },
      "source": [
        "# this is a regex creating a space after : or , or ; or ( or - when the immediate character that follows is not space.\r\n",
        "data[\"new_desc\"] = data[\"new_desc\"].str.replace(r'(?<=[:;,(-])(?=[^\\s])', r' ',regex=True)"
      ],
      "execution_count": 17,
      "outputs": []
    },
    {
      "cell_type": "code",
      "metadata": {
        "id": "B0bAcf9oDZ7j"
      },
      "source": [
        "# this is a regex creates a space for every word character that is followed by any of the non-word charcter defined in the positive lookahead group ([!):;,-])\r\n",
        "data[\"new_desc\"] = data[\"new_desc\"].str.replace(r'(?<=[\\w])([!):;,-])', r' \\1',regex=True)"
      ],
      "execution_count": 18,
      "outputs": []
    },
    {
      "cell_type": "code",
      "metadata": {
        "id": "950zvCoIZJpr"
      },
      "source": [
        "# this is a regex creates a space for every word character or non-word character that is followed by one or more period(non-word charcter) \r\n",
        "# defined in the positive lookahead group (\\.+)\r\n",
        "data[\"new_desc\"] = data[\"new_desc\"].str.replace(r'(?<=[\\w\\W])([\\.+])', r' ',regex=True)"
      ],
      "execution_count": 19,
      "outputs": []
    },
    {
      "cell_type": "code",
      "metadata": {
        "id": "uDyYwZsrDZ5L"
      },
      "source": [
        "# this sis a regex that creates a single space in place of multiple spaces\r\n",
        "data[\"new_desc\"] = data[\"new_desc\"].str.replace(r'\\s{2,}', r' ',regex=True)"
      ],
      "execution_count": 20,
      "outputs": []
    },
    {
      "cell_type": "code",
      "metadata": {
        "id": "efEbIYzcDZ02"
      },
      "source": [
        "# this is a regex creates a space for every word character or non-word character that is followed by one or more newline (non-word charcter) \r\n",
        "# defined in the positive lookahead group (\\n+)\r\n",
        "data[\"new_desc\"] = data[\"new_desc\"].str.replace(r'(?<=[\\w\\W])([\\n+])', r' ',regex=True)"
      ],
      "execution_count": 21,
      "outputs": []
    },
    {
      "cell_type": "code",
      "metadata": {
        "id": "mQ2nC5eMUpN5"
      },
      "source": [
        "# the regex for replacing single commas by no space charcater\r\n",
        "data[\"new_desc\"] = data[\"new_desc\"].str.replace(r',', r'', regex=True)"
      ],
      "execution_count": 22,
      "outputs": []
    },
    {
      "cell_type": "code",
      "metadata": {
        "id": "926QBmCNVR4j"
      },
      "source": [
        "# According to the text since the colon and the semicolon characters formed a meaningful sentence end, these characters are replaced by period.\r\n",
        "# This is a regex to replace the colon(:) and the semicolon(;) by the period(.)\r\n",
        "data[\"new_desc\"] = data[\"new_desc\"].str.replace(r'[:;]', r'.', regex=True)"
      ],
      "execution_count": 23,
      "outputs": []
    },
    {
      "cell_type": "code",
      "metadata": {
        "colab": {
          "base_uri": "https://localhost:8080/",
          "height": 164
        },
        "id": "uZFMO6JpDZzE",
        "outputId": "03c583c5-89ec-4d5a-80ab-c5f52845e093"
      },
      "source": [
        "# check few examples after cleaning the data.\r\n",
        "data[\"new_desc\"][93]"
      ],
      "execution_count": 24,
      "outputs": [
        {
          "output_type": "execute_result",
          "data": {
            "application/vnd.google.colaboratory.intrinsic+json": {
              "type": "string"
            },
            "text/plain": [
              "'Vizion 8503B - 1RED Cold Light Digital Watch - For Boys  Girls Price . 595 Brand . Vizion  Sports Series watch for Kids  1 year manufacturer warranty  Digital display  Automatic movement  Metal Case and solid body  Dial shape . Round  Dial dimension . 22mm  Strap material . Silicone  Strap width . 20mm  Water resistant  Night display cold backLight  Daily Alarm  Hour minute second  date week display  12/24 hour format  Attractive brand packaging - Tuff plastic box  Note . In case of non - receipt of warranty card  please intimate us within 48 hours  Disclaimer . Product color may slightly vary due to photographic lighting sources or your monitor settings ( The image has been enlarged for better viewing ) Brand . Vizion  Sports Series watch for Kids  1 year manufacturer warranty  Digital display  Automatic movement  Metal Case and solid body  Dial shape . Round  Dial dimension . 22mm  Strap material . Silicone  Strap width . 20mm  Water resistant  Night display cold backLight  Daily Alarm  Hour minute second  date week display  12/24 hour format  Attractive brand packaging - Tuff plastic box  Note . In case of non - receipt of warranty card  please intimate us within 48 hours  Disclaimer . Product color may slightly vary due to photographic lighting sources or your monitor settings ( The image has been enlarged for better viewing )'"
            ]
          },
          "metadata": {
            "tags": []
          },
          "execution_count": 24
        }
      ]
    },
    {
      "cell_type": "code",
      "metadata": {
        "colab": {
          "base_uri": "https://localhost:8080/",
          "height": 72
        },
        "id": "P7oWerkJGOFo",
        "outputId": "4f29575e-9965-4bdd-fb79-2d34aceb3e9f"
      },
      "source": [
        "data[\"new_desc\"][0]"
      ],
      "execution_count": 25,
      "outputs": [
        {
          "output_type": "execute_result",
          "data": {
            "application/vnd.google.colaboratory.intrinsic+json": {
              "type": "string"
            },
            "text/plain": [
              "\"Key Features of Alisha Solid Women's Cycling Shorts Cotton Lycra Navy  Red  Navy  Specifications of Alisha Solid Women's Cycling Shorts Shorts Details Number of Contents in Sales Package Pack of 3 Fabric Cotton Lycra Type Cycling Shorts General Details Pattern Solid Ideal For Women's Fabric Care Gentle Machine Wash in Lukewarm Water  Do Not Bleach Additional Details Style Code ALTHT_3P_21 In the Box 3 shorts\""
            ]
          },
          "metadata": {
            "tags": []
          },
          "execution_count": 25
        }
      ]
    },
    {
      "cell_type": "code",
      "metadata": {
        "colab": {
          "base_uri": "https://localhost:8080/",
          "height": 109
        },
        "id": "CpVeQeJQGTdK",
        "outputId": "faecf5e9-26b4-4de7-b517-95d2b3bcea0d"
      },
      "source": [
        "data[\"new_desc\"][2]"
      ],
      "execution_count": 26,
      "outputs": [
        {
          "output_type": "execute_result",
          "data": {
            "application/vnd.google.colaboratory.intrinsic+json": {
              "type": "string"
            },
            "text/plain": [
              "'Key Features of AW Bellies Sandals Wedges Heel Casuals  AW Bellies Price . 499 Material . Synthetic Lifestyle . Casual Heel Type . Wedge Warranty Type . Manufacturer Product Warranty against manufacturing defects . 30 days Care instructions . Allow your pair of shoes to air and de - odorize at regular basis . use shoe bags to prevent any stains or mildew . dust any dry dirt from the surface using a clean cloth . do not use polish or shiner  Specifications of AW Bellies General Ideal For Women Occasion Casual Shoe Details Color Red Outer Material Patent Leather Heel Height 1 inch Number of Contents in Sales Package Pack of 1 In the Box One Pair Of Shoes'"
            ]
          },
          "metadata": {
            "tags": []
          },
          "execution_count": 26
        }
      ]
    },
    {
      "cell_type": "code",
      "metadata": {
        "id": "mTl6DL9vwOTK"
      },
      "source": [
        "# create a function that splits the data in each row of the data[\"new_desc\"] series by (.)\r\n",
        "data[\"new_desc\"] = data[\"new_desc\"].map(lambda x : str(x).split('.'))"
      ],
      "execution_count": 29,
      "outputs": []
    },
    {
      "cell_type": "code",
      "metadata": {
        "id": "rAfQ8Z5QwOQT"
      },
      "source": [
        "def make_list(entry):\r\n",
        "  temp_list=[]\r\n",
        "  for string in entry:\r\n",
        "    string_list = string.split(\" \")\r\n",
        "    temp_list.append(string_list)\r\n",
        "  return temp_list"
      ],
      "execution_count": 30,
      "outputs": []
    },
    {
      "cell_type": "code",
      "metadata": {
        "id": "jf1rrYvKwONK"
      },
      "source": [
        "# create a function that splits the data in each row of the data[\"new_desc\"] series by (\" \").\r\n",
        "data[\"new_desc\"] = data[\"new_desc\"].map(lambda x : make_list(x))"
      ],
      "execution_count": 31,
      "outputs": []
    },
    {
      "cell_type": "code",
      "metadata": {
        "id": "ekL5ckCXwOJ0"
      },
      "source": [
        "def append_period(entry):\r\n",
        "  period = \".\"\r\n",
        "  for lt in entry:\r\n",
        "    lt.append(period)\r\n",
        "  return entry\r\n",
        "  "
      ],
      "execution_count": 32,
      "outputs": []
    },
    {
      "cell_type": "code",
      "metadata": {
        "id": "eQkRzj2HwdqK"
      },
      "source": [
        "# create a function that appends each list in each row of the data[\"new_desc\"] series by (.), which shows the end token for each sentence.\r\n",
        "data[\"new_desc\"] = data[\"new_desc\"].map(lambda x : append_period(x))"
      ],
      "execution_count": 33,
      "outputs": []
    },
    {
      "cell_type": "code",
      "metadata": {
        "id": "pfgU70PGvzAr"
      },
      "source": [
        "# create a function to split the rows in data[\"product_category_tree\"] and get the first string or the string at zeroth position.\r\n",
        "def get_instance_of_entries(entry):\r\n",
        "  entry_list = entry.split(\">>\")\r\n",
        "  first_word = entry_list[0].rstrip()\r\n",
        "  first_word = re.sub(r'[[\"]', r'', first_word)\r\n",
        "  return first_word"
      ],
      "execution_count": 34,
      "outputs": []
    },
    {
      "cell_type": "code",
      "metadata": {
        "id": "cqWlPHtjvyyy"
      },
      "source": [
        "# create new column \"mainsnak\" which is same as data[\"product_category_tree\"]\r\n",
        "data[\"mainsnak\"] = data[\"product_category_tree\"]"
      ],
      "execution_count": 35,
      "outputs": []
    },
    {
      "cell_type": "code",
      "metadata": {
        "colab": {
          "base_uri": "https://localhost:8080/",
          "height": 36
        },
        "id": "nKnH3kXjS084",
        "outputId": "36cb7dd7-3599-4137-e7e6-90901262fdf0"
      },
      "source": [
        "data[\"mainsnak\"][0]"
      ],
      "execution_count": 36,
      "outputs": [
        {
          "output_type": "execute_result",
          "data": {
            "application/vnd.google.colaboratory.intrinsic+json": {
              "type": "string"
            },
            "text/plain": [
              "'[\"Clothing >> Women\\'s Clothing >> Lingerie, Sleep & Swimwear >> Shorts >> Alisha Shorts >> Alisha Solid Women\\'s Cycling Shorts\"]'"
            ]
          },
          "metadata": {
            "tags": []
          },
          "execution_count": 36
        }
      ]
    },
    {
      "cell_type": "code",
      "metadata": {
        "id": "AK49f20b_H_v"
      },
      "source": [
        "# apply the function get_instance_of_entries to mainsnak column and get the string in zeroth position. \r\n",
        "data[\"mainsnak\"] = data[\"mainsnak\"].map(lambda x : get_instance_of_entries(x))"
      ],
      "execution_count": 37,
      "outputs": []
    },
    {
      "cell_type": "code",
      "metadata": {
        "colab": {
          "base_uri": "https://localhost:8080/",
          "height": 293
        },
        "id": "1mlvf44A_H8n",
        "outputId": "172e65da-4238-44cc-e06e-6969a1e63b17"
      },
      "source": [
        "# check the data after transformations.\r\n",
        "data.head()"
      ],
      "execution_count": 38,
      "outputs": [
        {
          "output_type": "execute_result",
          "data": {
            "text/html": [
              "<div>\n",
              "<style scoped>\n",
              "    .dataframe tbody tr th:only-of-type {\n",
              "        vertical-align: middle;\n",
              "    }\n",
              "\n",
              "    .dataframe tbody tr th {\n",
              "        vertical-align: top;\n",
              "    }\n",
              "\n",
              "    .dataframe thead th {\n",
              "        text-align: right;\n",
              "    }\n",
              "</style>\n",
              "<table border=\"1\" class=\"dataframe\">\n",
              "  <thead>\n",
              "    <tr style=\"text-align: right;\">\n",
              "      <th></th>\n",
              "      <th>product_name</th>\n",
              "      <th>product_category_tree</th>\n",
              "      <th>description</th>\n",
              "      <th>brand</th>\n",
              "      <th>new_desc</th>\n",
              "      <th>mainsnak</th>\n",
              "    </tr>\n",
              "  </thead>\n",
              "  <tbody>\n",
              "    <tr>\n",
              "      <th>0</th>\n",
              "      <td>Alisha Solid Women's Cycling Shorts</td>\n",
              "      <td>[\"Clothing &gt;&gt; Women's Clothing &gt;&gt; Lingerie, Sl...</td>\n",
              "      <td>Key Features of Alisha Solid Women's Cycling S...</td>\n",
              "      <td>Alisha</td>\n",
              "      <td>[[Key, Features, of, Alisha, Solid, Women's, C...</td>\n",
              "      <td>Clothing</td>\n",
              "    </tr>\n",
              "    <tr>\n",
              "      <th>1</th>\n",
              "      <td>FabHomeDecor Fabric Double Sofa Bed</td>\n",
              "      <td>[\"Furniture &gt;&gt; Living Room Furniture &gt;&gt; Sofa B...</td>\n",
              "      <td>FabHomeDecor Fabric Double Sofa Bed (Finish Co...</td>\n",
              "      <td>FabHomeDecor</td>\n",
              "      <td>[[FabHomeDecor, Fabric, Double, Sofa, Bed, (, ...</td>\n",
              "      <td>Furniture</td>\n",
              "    </tr>\n",
              "    <tr>\n",
              "      <th>2</th>\n",
              "      <td>AW Bellies</td>\n",
              "      <td>[\"Footwear &gt;&gt; Women's Footwear &gt;&gt; Ballerinas &gt;...</td>\n",
              "      <td>Key Features of AW Bellies Sandals Wedges Heel...</td>\n",
              "      <td>AW</td>\n",
              "      <td>[[Key, Features, of, AW, Bellies, Sandals, Wed...</td>\n",
              "      <td>Footwear</td>\n",
              "    </tr>\n",
              "    <tr>\n",
              "      <th>3</th>\n",
              "      <td>Alisha Solid Women's Cycling Shorts</td>\n",
              "      <td>[\"Clothing &gt;&gt; Women's Clothing &gt;&gt; Lingerie, Sl...</td>\n",
              "      <td>Key Features of Alisha Solid Women's Cycling S...</td>\n",
              "      <td>Alisha</td>\n",
              "      <td>[[Key, Features, of, Alisha, Solid, Women's, C...</td>\n",
              "      <td>Clothing</td>\n",
              "    </tr>\n",
              "    <tr>\n",
              "      <th>4</th>\n",
              "      <td>Sicons All Purpose Arnica Dog Shampoo</td>\n",
              "      <td>[\"Pet Supplies &gt;&gt; Grooming &gt;&gt; Skin &amp; Coat Care...</td>\n",
              "      <td>Specifications of Sicons All Purpose Arnica Do...</td>\n",
              "      <td>Sicons</td>\n",
              "      <td>[[Specifications, of, Sicons, All, Purpose, Ar...</td>\n",
              "      <td>Pet Supplies</td>\n",
              "    </tr>\n",
              "  </tbody>\n",
              "</table>\n",
              "</div>"
            ],
            "text/plain": [
              "                            product_name  ...      mainsnak\n",
              "0    Alisha Solid Women's Cycling Shorts  ...      Clothing\n",
              "1    FabHomeDecor Fabric Double Sofa Bed  ...     Furniture\n",
              "2                             AW Bellies  ...      Footwear\n",
              "3    Alisha Solid Women's Cycling Shorts  ...      Clothing\n",
              "4  Sicons All Purpose Arnica Dog Shampoo  ...  Pet Supplies\n",
              "\n",
              "[5 rows x 6 columns]"
            ]
          },
          "metadata": {
            "tags": []
          },
          "execution_count": 38
        }
      ]
    },
    {
      "cell_type": "code",
      "metadata": {
        "id": "3GHxuoR_Z7wr"
      },
      "source": [
        "# create new dataframe with useful columns.\r\n",
        "new_df = data[[\"product_name\", \"mainsnak\", \"brand\",  \"new_desc\"]]"
      ],
      "execution_count": 39,
      "outputs": []
    },
    {
      "cell_type": "code",
      "metadata": {
        "colab": {
          "base_uri": "https://localhost:8080/",
          "height": 206
        },
        "id": "JMTN28ScZ7tc",
        "outputId": "6af20f09-a028-40df-d3f6-dcca1c3e773d"
      },
      "source": [
        "new_df.head()"
      ],
      "execution_count": 40,
      "outputs": [
        {
          "output_type": "execute_result",
          "data": {
            "text/html": [
              "<div>\n",
              "<style scoped>\n",
              "    .dataframe tbody tr th:only-of-type {\n",
              "        vertical-align: middle;\n",
              "    }\n",
              "\n",
              "    .dataframe tbody tr th {\n",
              "        vertical-align: top;\n",
              "    }\n",
              "\n",
              "    .dataframe thead th {\n",
              "        text-align: right;\n",
              "    }\n",
              "</style>\n",
              "<table border=\"1\" class=\"dataframe\">\n",
              "  <thead>\n",
              "    <tr style=\"text-align: right;\">\n",
              "      <th></th>\n",
              "      <th>product_name</th>\n",
              "      <th>mainsnak</th>\n",
              "      <th>brand</th>\n",
              "      <th>new_desc</th>\n",
              "    </tr>\n",
              "  </thead>\n",
              "  <tbody>\n",
              "    <tr>\n",
              "      <th>0</th>\n",
              "      <td>Alisha Solid Women's Cycling Shorts</td>\n",
              "      <td>Clothing</td>\n",
              "      <td>Alisha</td>\n",
              "      <td>[[Key, Features, of, Alisha, Solid, Women's, C...</td>\n",
              "    </tr>\n",
              "    <tr>\n",
              "      <th>1</th>\n",
              "      <td>FabHomeDecor Fabric Double Sofa Bed</td>\n",
              "      <td>Furniture</td>\n",
              "      <td>FabHomeDecor</td>\n",
              "      <td>[[FabHomeDecor, Fabric, Double, Sofa, Bed, (, ...</td>\n",
              "    </tr>\n",
              "    <tr>\n",
              "      <th>2</th>\n",
              "      <td>AW Bellies</td>\n",
              "      <td>Footwear</td>\n",
              "      <td>AW</td>\n",
              "      <td>[[Key, Features, of, AW, Bellies, Sandals, Wed...</td>\n",
              "    </tr>\n",
              "    <tr>\n",
              "      <th>3</th>\n",
              "      <td>Alisha Solid Women's Cycling Shorts</td>\n",
              "      <td>Clothing</td>\n",
              "      <td>Alisha</td>\n",
              "      <td>[[Key, Features, of, Alisha, Solid, Women's, C...</td>\n",
              "    </tr>\n",
              "    <tr>\n",
              "      <th>4</th>\n",
              "      <td>Sicons All Purpose Arnica Dog Shampoo</td>\n",
              "      <td>Pet Supplies</td>\n",
              "      <td>Sicons</td>\n",
              "      <td>[[Specifications, of, Sicons, All, Purpose, Ar...</td>\n",
              "    </tr>\n",
              "  </tbody>\n",
              "</table>\n",
              "</div>"
            ],
            "text/plain": [
              "                            product_name  ...                                           new_desc\n",
              "0    Alisha Solid Women's Cycling Shorts  ...  [[Key, Features, of, Alisha, Solid, Women's, C...\n",
              "1    FabHomeDecor Fabric Double Sofa Bed  ...  [[FabHomeDecor, Fabric, Double, Sofa, Bed, (, ...\n",
              "2                             AW Bellies  ...  [[Key, Features, of, AW, Bellies, Sandals, Wed...\n",
              "3    Alisha Solid Women's Cycling Shorts  ...  [[Key, Features, of, Alisha, Solid, Women's, C...\n",
              "4  Sicons All Purpose Arnica Dog Shampoo  ...  [[Specifications, of, Sicons, All, Purpose, Ar...\n",
              "\n",
              "[5 rows x 4 columns]"
            ]
          },
          "metadata": {
            "tags": []
          },
          "execution_count": 40
        }
      ]
    },
    {
      "cell_type": "code",
      "metadata": {
        "colab": {
          "base_uri": "https://localhost:8080/"
        },
        "id": "1kK8zScJEgI0",
        "outputId": "31fb305d-d8f5-4f41-c678-dad9c01891ef"
      },
      "source": [
        "# we observe that each row in the column \"new_desc\" is a list of list and each inner list is ended by a \".\" entry\r\n",
        "new_df[\"new_desc\"][93]"
      ],
      "execution_count": 42,
      "outputs": [
        {
          "output_type": "execute_result",
          "data": {
            "text/plain": [
              "[['Vizion',\n",
              "  '8503B',\n",
              "  '-',\n",
              "  '1RED',\n",
              "  'Cold',\n",
              "  'Light',\n",
              "  'Digital',\n",
              "  'Watch',\n",
              "  '-',\n",
              "  'For',\n",
              "  'Boys',\n",
              "  '',\n",
              "  'Girls',\n",
              "  'Price',\n",
              "  '',\n",
              "  '.'],\n",
              " ['', '595', 'Brand', '', '.'],\n",
              " ['',\n",
              "  'Vizion',\n",
              "  '',\n",
              "  'Sports',\n",
              "  'Series',\n",
              "  'watch',\n",
              "  'for',\n",
              "  'Kids',\n",
              "  '',\n",
              "  '1',\n",
              "  'year',\n",
              "  'manufacturer',\n",
              "  'warranty',\n",
              "  '',\n",
              "  'Digital',\n",
              "  'display',\n",
              "  '',\n",
              "  'Automatic',\n",
              "  'movement',\n",
              "  '',\n",
              "  'Metal',\n",
              "  'Case',\n",
              "  'and',\n",
              "  'solid',\n",
              "  'body',\n",
              "  '',\n",
              "  'Dial',\n",
              "  'shape',\n",
              "  '',\n",
              "  '.'],\n",
              " ['', 'Round', '', 'Dial', 'dimension', '', '.'],\n",
              " ['', '22mm', '', 'Strap', 'material', '', '.'],\n",
              " ['', 'Silicone', '', 'Strap', 'width', '', '.'],\n",
              " ['',\n",
              "  '20mm',\n",
              "  '',\n",
              "  'Water',\n",
              "  'resistant',\n",
              "  '',\n",
              "  'Night',\n",
              "  'display',\n",
              "  'cold',\n",
              "  'backLight',\n",
              "  '',\n",
              "  'Daily',\n",
              "  'Alarm',\n",
              "  '',\n",
              "  'Hour',\n",
              "  'minute',\n",
              "  'second',\n",
              "  '',\n",
              "  'date',\n",
              "  'week',\n",
              "  'display',\n",
              "  '',\n",
              "  '12/24',\n",
              "  'hour',\n",
              "  'format',\n",
              "  '',\n",
              "  'Attractive',\n",
              "  'brand',\n",
              "  'packaging',\n",
              "  '-',\n",
              "  'Tuff',\n",
              "  'plastic',\n",
              "  'box',\n",
              "  '',\n",
              "  'Note',\n",
              "  '',\n",
              "  '.'],\n",
              " ['',\n",
              "  'In',\n",
              "  'case',\n",
              "  'of',\n",
              "  'non',\n",
              "  '-',\n",
              "  'receipt',\n",
              "  'of',\n",
              "  'warranty',\n",
              "  'card',\n",
              "  '',\n",
              "  'please',\n",
              "  'intimate',\n",
              "  'us',\n",
              "  'within',\n",
              "  '48',\n",
              "  'hours',\n",
              "  '',\n",
              "  'Disclaimer',\n",
              "  '',\n",
              "  '.'],\n",
              " ['',\n",
              "  'Product',\n",
              "  'color',\n",
              "  'may',\n",
              "  'slightly',\n",
              "  'vary',\n",
              "  'due',\n",
              "  'to',\n",
              "  'photographic',\n",
              "  'lighting',\n",
              "  'sources',\n",
              "  'or',\n",
              "  'your',\n",
              "  'monitor',\n",
              "  'settings',\n",
              "  '(',\n",
              "  'The',\n",
              "  'image',\n",
              "  'has',\n",
              "  'been',\n",
              "  'enlarged',\n",
              "  'for',\n",
              "  'better',\n",
              "  'viewing',\n",
              "  ')',\n",
              "  'Brand',\n",
              "  '',\n",
              "  '.'],\n",
              " ['',\n",
              "  'Vizion',\n",
              "  '',\n",
              "  'Sports',\n",
              "  'Series',\n",
              "  'watch',\n",
              "  'for',\n",
              "  'Kids',\n",
              "  '',\n",
              "  '1',\n",
              "  'year',\n",
              "  'manufacturer',\n",
              "  'warranty',\n",
              "  '',\n",
              "  'Digital',\n",
              "  'display',\n",
              "  '',\n",
              "  'Automatic',\n",
              "  'movement',\n",
              "  '',\n",
              "  'Metal',\n",
              "  'Case',\n",
              "  'and',\n",
              "  'solid',\n",
              "  'body',\n",
              "  '',\n",
              "  'Dial',\n",
              "  'shape',\n",
              "  '',\n",
              "  '.'],\n",
              " ['', 'Round', '', 'Dial', 'dimension', '', '.'],\n",
              " ['', '22mm', '', 'Strap', 'material', '', '.'],\n",
              " ['', 'Silicone', '', 'Strap', 'width', '', '.'],\n",
              " ['',\n",
              "  '20mm',\n",
              "  '',\n",
              "  'Water',\n",
              "  'resistant',\n",
              "  '',\n",
              "  'Night',\n",
              "  'display',\n",
              "  'cold',\n",
              "  'backLight',\n",
              "  '',\n",
              "  'Daily',\n",
              "  'Alarm',\n",
              "  '',\n",
              "  'Hour',\n",
              "  'minute',\n",
              "  'second',\n",
              "  '',\n",
              "  'date',\n",
              "  'week',\n",
              "  'display',\n",
              "  '',\n",
              "  '12/24',\n",
              "  'hour',\n",
              "  'format',\n",
              "  '',\n",
              "  'Attractive',\n",
              "  'brand',\n",
              "  'packaging',\n",
              "  '-',\n",
              "  'Tuff',\n",
              "  'plastic',\n",
              "  'box',\n",
              "  '',\n",
              "  'Note',\n",
              "  '',\n",
              "  '.'],\n",
              " ['',\n",
              "  'In',\n",
              "  'case',\n",
              "  'of',\n",
              "  'non',\n",
              "  '-',\n",
              "  'receipt',\n",
              "  'of',\n",
              "  'warranty',\n",
              "  'card',\n",
              "  '',\n",
              "  'please',\n",
              "  'intimate',\n",
              "  'us',\n",
              "  'within',\n",
              "  '48',\n",
              "  'hours',\n",
              "  '',\n",
              "  'Disclaimer',\n",
              "  '',\n",
              "  '.'],\n",
              " ['',\n",
              "  'Product',\n",
              "  'color',\n",
              "  'may',\n",
              "  'slightly',\n",
              "  'vary',\n",
              "  'due',\n",
              "  'to',\n",
              "  'photographic',\n",
              "  'lighting',\n",
              "  'sources',\n",
              "  'or',\n",
              "  'your',\n",
              "  'monitor',\n",
              "  'settings',\n",
              "  '(',\n",
              "  'The',\n",
              "  'image',\n",
              "  'has',\n",
              "  'been',\n",
              "  'enlarged',\n",
              "  'for',\n",
              "  'better',\n",
              "  'viewing',\n",
              "  ')',\n",
              "  '.']]"
            ]
          },
          "metadata": {
            "tags": []
          },
          "execution_count": 42
        }
      ]
    },
    {
      "cell_type": "code",
      "metadata": {
        "colab": {
          "base_uri": "https://localhost:8080/"
        },
        "id": "MV7L-DVM_icT",
        "outputId": "6984dc7f-20db-44d0-ce80-277821e7a50b"
      },
      "source": [
        "len(new_df)"
      ],
      "execution_count": 44,
      "outputs": [
        {
          "output_type": "execute_result",
          "data": {
            "text/plain": [
              "20000"
            ]
          },
          "metadata": {
            "tags": []
          },
          "execution_count": 44
        }
      ]
    },
    {
      "cell_type": "code",
      "metadata": {
        "id": "zGLxnuJz_iQD"
      },
      "source": [
        "# change the column names matching to the wikidataset column names.\r\n",
        "new_df.columns = ['Name_ID', 'mainsnak', 'brand', 'TEXT']"
      ],
      "execution_count": 45,
      "outputs": []
    },
    {
      "cell_type": "code",
      "metadata": {
        "colab": {
          "base_uri": "https://localhost:8080/",
          "height": 206
        },
        "id": "kVovKXZ8_iHK",
        "outputId": "0feebc6d-5273-49f3-d82a-db7cbaef774a"
      },
      "source": [
        "new_df.head()"
      ],
      "execution_count": 46,
      "outputs": [
        {
          "output_type": "execute_result",
          "data": {
            "text/html": [
              "<div>\n",
              "<style scoped>\n",
              "    .dataframe tbody tr th:only-of-type {\n",
              "        vertical-align: middle;\n",
              "    }\n",
              "\n",
              "    .dataframe tbody tr th {\n",
              "        vertical-align: top;\n",
              "    }\n",
              "\n",
              "    .dataframe thead th {\n",
              "        text-align: right;\n",
              "    }\n",
              "</style>\n",
              "<table border=\"1\" class=\"dataframe\">\n",
              "  <thead>\n",
              "    <tr style=\"text-align: right;\">\n",
              "      <th></th>\n",
              "      <th>Name_ID</th>\n",
              "      <th>mainsnak</th>\n",
              "      <th>brand</th>\n",
              "      <th>TEXT</th>\n",
              "    </tr>\n",
              "  </thead>\n",
              "  <tbody>\n",
              "    <tr>\n",
              "      <th>0</th>\n",
              "      <td>Alisha Solid Women's Cycling Shorts</td>\n",
              "      <td>Clothing</td>\n",
              "      <td>Alisha</td>\n",
              "      <td>[[Key, Features, of, Alisha, Solid, Women's, C...</td>\n",
              "    </tr>\n",
              "    <tr>\n",
              "      <th>1</th>\n",
              "      <td>FabHomeDecor Fabric Double Sofa Bed</td>\n",
              "      <td>Furniture</td>\n",
              "      <td>FabHomeDecor</td>\n",
              "      <td>[[FabHomeDecor, Fabric, Double, Sofa, Bed, (, ...</td>\n",
              "    </tr>\n",
              "    <tr>\n",
              "      <th>2</th>\n",
              "      <td>AW Bellies</td>\n",
              "      <td>Footwear</td>\n",
              "      <td>AW</td>\n",
              "      <td>[[Key, Features, of, AW, Bellies, Sandals, Wed...</td>\n",
              "    </tr>\n",
              "    <tr>\n",
              "      <th>3</th>\n",
              "      <td>Alisha Solid Women's Cycling Shorts</td>\n",
              "      <td>Clothing</td>\n",
              "      <td>Alisha</td>\n",
              "      <td>[[Key, Features, of, Alisha, Solid, Women's, C...</td>\n",
              "    </tr>\n",
              "    <tr>\n",
              "      <th>4</th>\n",
              "      <td>Sicons All Purpose Arnica Dog Shampoo</td>\n",
              "      <td>Pet Supplies</td>\n",
              "      <td>Sicons</td>\n",
              "      <td>[[Specifications, of, Sicons, All, Purpose, Ar...</td>\n",
              "    </tr>\n",
              "  </tbody>\n",
              "</table>\n",
              "</div>"
            ],
            "text/plain": [
              "                                 Name_ID  ...                                               TEXT\n",
              "0    Alisha Solid Women's Cycling Shorts  ...  [[Key, Features, of, Alisha, Solid, Women's, C...\n",
              "1    FabHomeDecor Fabric Double Sofa Bed  ...  [[FabHomeDecor, Fabric, Double, Sofa, Bed, (, ...\n",
              "2                             AW Bellies  ...  [[Key, Features, of, AW, Bellies, Sandals, Wed...\n",
              "3    Alisha Solid Women's Cycling Shorts  ...  [[Key, Features, of, Alisha, Solid, Women's, C...\n",
              "4  Sicons All Purpose Arnica Dog Shampoo  ...  [[Specifications, of, Sicons, All, Purpose, Ar...\n",
              "\n",
              "[5 rows x 4 columns]"
            ]
          },
          "metadata": {
            "tags": []
          },
          "execution_count": 46
        }
      ]
    },
    {
      "cell_type": "code",
      "metadata": {
        "id": "k0go8nf5GZzf"
      },
      "source": [
        "# create a function to create a datastructure similar to wikidataset and get all the dict entries into a list.\r\n",
        "\r\n",
        "def data_preparation(df):\r\n",
        "  # word_dict = {}\r\n",
        "  data_list = []\r\n",
        "  for index, row in df.iterrows():\r\n",
        "    word_dict = {\"Name_ID\": row[\"Name_ID\"], \"taxon rank\": [{\"mainsnak\": \"Product\"}],\r\n",
        "                \"parent taxon\": [{\"mainsnak\": row[\"brand\"]}], \"instance of\": [{\"mainsnak\": row['mainsnak'] }], \r\n",
        "                \"TEXT\": row['TEXT']}\r\n",
        "    data_list.append(word_dict.copy())\r\n",
        "  return data_list\r\n",
        "    "
      ],
      "execution_count": 47,
      "outputs": []
    },
    {
      "cell_type": "code",
      "metadata": {
        "id": "DrcTUqnxGZnP"
      },
      "source": [
        "data_list = data_preparation(new_df)\r\n",
        "# final_list = \"\\n\".join(data_list)\r\n"
      ],
      "execution_count": 48,
      "outputs": []
    },
    {
      "cell_type": "code",
      "metadata": {
        "id": "Vj5h99Ziaofm"
      },
      "source": [
        "# create a file name called new_df.json and write the data.\r\n",
        "import json\r\n",
        "with open(\"/content/drive/MyDrive/datasets/new_df.json\", \"w\") as f:\r\n",
        "  for item in data_list:\r\n",
        "    f.write(json.dumps(item))\r\n",
        "    f.write(\"\\n\")"
      ],
      "execution_count": 49,
      "outputs": []
    },
    {
      "cell_type": "code",
      "metadata": {
        "id": "8rZ-dQ8gaocn"
      },
      "source": [
        ""
      ],
      "execution_count": null,
      "outputs": []
    },
    {
      "cell_type": "code",
      "metadata": {
        "id": "iq4h209YaoZj"
      },
      "source": [
        ""
      ],
      "execution_count": null,
      "outputs": []
    },
    {
      "cell_type": "code",
      "metadata": {
        "id": "YdmxtLAYGZMd"
      },
      "source": [
        ""
      ],
      "execution_count": null,
      "outputs": []
    }
  ]
}